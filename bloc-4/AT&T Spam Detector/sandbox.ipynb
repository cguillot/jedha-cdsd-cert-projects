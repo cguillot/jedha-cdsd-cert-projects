{
 "cells": [
  {
   "cell_type": "code",
   "execution_count": null,
   "id": "20b8a0b3",
   "metadata": {},
   "outputs": [],
   "source": [
    "nlp = en_core_web_sm.load()\n",
    "\n",
    "# Tokenization\n",
    "sms_df[\"message_tokenized\"] = sms_df[\"message_clean\"].fillna(\"\").apply(lambda x: nlp(x))\n",
    "\n",
    "\n",
    "\n",
    "\n",
    "sms_df[\"class_encoded\"] = sms_df[\"class\"].apply(lambda x: 1 if x == 'spam' else 0)\n",
    "\n",
    "\n",
    "nlp = en_core_web_sm.load()\n",
    "\n",
    "\n",
    "# Tokenization\n",
    "sms_df[\"message_tokenized\"] = sms_df[\"message_clean\"].fillna(\"\").apply(lambda x: nlp(x))\n",
    "\n",
    "# Stemming/Lemmatization\n",
    "sms_df[\"message_tokenized\"] = sms_df[\"message_tokenized\"].apply(lambda x: [token.lemma_ for token in x if token.text not in EN_STOP_WORDS])\n",
    "\n",
    "# rebuild the cleaned message\n",
    "sms_df[\"message_cleaned\"] = [\" \".join(x) for x in sms_df[\"message_tokenized\"]]\n",
    "\n",
    "# Encode classes (0: ham, 1: spam)\n",
    "sms_df[\"class_encoded\"] = sms_df[\"class\"].apply(lambda x: 1 if x == 'spam' else 0)"
   ]
  }
 ],
 "metadata": {
  "kernelspec": {
   "display_name": ".venv",
   "language": "python",
   "name": "python3"
  },
  "language_info": {
   "name": "python",
   "version": "3.11.11"
  }
 },
 "nbformat": 4,
 "nbformat_minor": 5
}
