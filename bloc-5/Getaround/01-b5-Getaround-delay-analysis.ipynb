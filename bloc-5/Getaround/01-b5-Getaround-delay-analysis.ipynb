{
 "cells": [
  {
   "cell_type": "markdown",
   "id": "d5cb9e7d",
   "metadata": {},
   "source": [
    "# Projet Getaround: Analyse des delais\n",
    "\n",
    "Dans le cadre de l'instauration d'un **délai minimum entre deux locations** il nous faut évaluer l'impact que cela pourrait avoir sur les utilisateurs et les locations.\n",
    "\n",
    "## Import des modules"
   ]
  },
  {
   "cell_type": "code",
   "execution_count": 1,
   "id": "143feca8",
   "metadata": {},
   "outputs": [
    {
     "name": "stdout",
     "output_type": "stream",
     "text": [
      "Data folder: /workspaces/jedha-cdsd-cert-projects/bloc-5/Getaround/data\n"
     ]
    }
   ],
   "source": [
    "import requests\n",
    "import pandas as pd\n",
    "import numpy as np\n",
    "\n",
    "import matplotlib.pyplot as plt\n",
    "import plotly.express as px\n",
    "\n",
    "# Some summary libs\n",
    "from summarytools import dfSummary\n",
    "from skimpy import skim\n",
    "\n",
    "from config import (\n",
    "    JEDHA_GETAROUND_DELAY_DATASET_CSV_URL,\n",
    "    LOCAL_GETAROUND_DELAY_DATASET_CSV_PATH,\n",
    ")\n",
    "\n",
    "# display settings\n",
    "pd.set_option('display.max_columns', None)    # Show all columns\n",
    "pd.set_option('display.width', 1000)          # Expand display width\n",
    "pd.set_option('display.max_colwidth', None)   # Show full content in each cell"
   ]
  },
  {
   "cell_type": "markdown",
   "id": "5e0e12c5",
   "metadata": {},
   "source": [
    "## Chargement des données"
   ]
  },
  {
   "cell_type": "code",
   "execution_count": 2,
   "id": "1a35d4c8",
   "metadata": {},
   "outputs": [],
   "source": [
    "# Retrieve locally data analysis dataset\n",
    "if not LOCAL_GETAROUND_DELAY_DATASET_CSV_PATH.exists():\n",
    "    response = requests.get(JEDHA_GETAROUND_DELAY_DATASET_CSV_URL)\n",
    "\n",
    "    with open(LOCAL_GETAROUND_DELAY_DATASET_CSV_PATH, mode=\"wb\") as file:\n",
    "        file.write(response.content)"
   ]
  },
  {
   "cell_type": "code",
   "execution_count": 3,
   "id": "72c14775",
   "metadata": {},
   "outputs": [
    {
     "data": {
      "text/html": [
       "<div>\n",
       "<style scoped>\n",
       "    .dataframe tbody tr th:only-of-type {\n",
       "        vertical-align: middle;\n",
       "    }\n",
       "\n",
       "    .dataframe tbody tr th {\n",
       "        vertical-align: top;\n",
       "    }\n",
       "\n",
       "    .dataframe thead th {\n",
       "        text-align: right;\n",
       "    }\n",
       "</style>\n",
       "<table border=\"1\" class=\"dataframe\">\n",
       "  <thead>\n",
       "    <tr style=\"text-align: right;\">\n",
       "      <th></th>\n",
       "      <th>rental_id</th>\n",
       "      <th>car_id</th>\n",
       "      <th>checkin_type</th>\n",
       "      <th>state</th>\n",
       "      <th>delay_at_checkout_in_minutes</th>\n",
       "      <th>previous_ended_rental_id</th>\n",
       "      <th>time_delta_with_previous_rental_in_minutes</th>\n",
       "    </tr>\n",
       "  </thead>\n",
       "  <tbody>\n",
       "    <tr>\n",
       "      <th>0</th>\n",
       "      <td>505000</td>\n",
       "      <td>363965</td>\n",
       "      <td>mobile</td>\n",
       "      <td>canceled</td>\n",
       "      <td>NaN</td>\n",
       "      <td>NaN</td>\n",
       "      <td>NaN</td>\n",
       "    </tr>\n",
       "    <tr>\n",
       "      <th>1</th>\n",
       "      <td>507750</td>\n",
       "      <td>269550</td>\n",
       "      <td>mobile</td>\n",
       "      <td>ended</td>\n",
       "      <td>-81.0</td>\n",
       "      <td>NaN</td>\n",
       "      <td>NaN</td>\n",
       "    </tr>\n",
       "    <tr>\n",
       "      <th>2</th>\n",
       "      <td>508131</td>\n",
       "      <td>359049</td>\n",
       "      <td>connect</td>\n",
       "      <td>ended</td>\n",
       "      <td>70.0</td>\n",
       "      <td>NaN</td>\n",
       "      <td>NaN</td>\n",
       "    </tr>\n",
       "    <tr>\n",
       "      <th>3</th>\n",
       "      <td>508865</td>\n",
       "      <td>299063</td>\n",
       "      <td>connect</td>\n",
       "      <td>canceled</td>\n",
       "      <td>NaN</td>\n",
       "      <td>NaN</td>\n",
       "      <td>NaN</td>\n",
       "    </tr>\n",
       "    <tr>\n",
       "      <th>4</th>\n",
       "      <td>511440</td>\n",
       "      <td>313932</td>\n",
       "      <td>mobile</td>\n",
       "      <td>ended</td>\n",
       "      <td>NaN</td>\n",
       "      <td>NaN</td>\n",
       "      <td>NaN</td>\n",
       "    </tr>\n",
       "  </tbody>\n",
       "</table>\n",
       "</div>"
      ],
      "text/plain": [
       "   rental_id  car_id checkin_type     state  delay_at_checkout_in_minutes  previous_ended_rental_id  time_delta_with_previous_rental_in_minutes\n",
       "0     505000  363965       mobile  canceled                           NaN                       NaN                                         NaN\n",
       "1     507750  269550       mobile     ended                         -81.0                       NaN                                         NaN\n",
       "2     508131  359049      connect     ended                          70.0                       NaN                                         NaN\n",
       "3     508865  299063      connect  canceled                           NaN                       NaN                                         NaN\n",
       "4     511440  313932       mobile     ended                           NaN                       NaN                                         NaN"
      ]
     },
     "execution_count": 3,
     "metadata": {},
     "output_type": "execute_result"
    }
   ],
   "source": [
    "# Be sure to always load the data sheet (named 'rentals_data')\n",
    "delay_analysis_raw_df = pd.read_excel(LOCAL_GETAROUND_DELAY_DATASET_CSV_PATH, sheet_name=\"rentals_data\")\n",
    "\n",
    "delay_analysis_raw_df.head()"
   ]
  },
  {
   "cell_type": "markdown",
   "id": "d4d71110",
   "metadata": {},
   "source": [
    "Documentation provided withing sheet `Documentation`:\n",
    "\n",
    "| field name | Comment |\n",
    "| - | - |\n",
    "rental_id | Unique identifier of the rental\n",
    "car_id | Unique identifier of the car\n",
    "checkin_type | Flow used for both checkin and checkout. (ie. access and return the car)<br>- ***mobile*** = rental agreement signed on the owner's smartphone <br>- ***connect*** = car equiped with the Connect technology , opened by the driver with his smartphone.<br><u>**Note:**</u> paper contracts were excluded from the data as we have no data on their delay at checkout and it's negligible use case\n",
    "state | canceled means that the rental did not happen (was canceled by the driver or the owner).\n",
    "delay_at_checkout_in_minutes | Difference in minutes between the rental end time requested by the driver when booking the car and the actual time the driver completed the checkout. Negative values mean that the driver returned the car in advance.\n",
    "previous_ended_rental_id | id of the previous ended rental of the car (NULL when no previous rental or delay with previous rental higher than 12 hours)\n",
    "time_delta_with_previous_rental_in_minutes | Difference in minutes between this rental planned start time and the previous rental planned end time (when lower than 12 hours, NULL if higher)\n"
   ]
  },
  {
   "cell_type": "markdown",
   "id": "edc240fe",
   "metadata": {},
   "source": [
    "## Exploration et adaptation rapide des données"
   ]
  },
  {
   "cell_type": "markdown",
   "id": "d02ef923",
   "metadata": {},
   "source": [
    "### Statistiques"
   ]
  },
  {
   "cell_type": "code",
   "execution_count": 4,
   "id": "68aa13c0",
   "metadata": {},
   "outputs": [
    {
     "data": {
      "text/html": [
       "<style type=\"text/css\">\n",
       "#T_9dcda thead>tr>th {\n",
       "  text-align: left;\n",
       "}\n",
       "#T_9dcda_row0_col0, #T_9dcda_row1_col0, #T_9dcda_row2_col0, #T_9dcda_row3_col0, #T_9dcda_row4_col0, #T_9dcda_row5_col0, #T_9dcda_row6_col0 {\n",
       "  text-align: left;\n",
       "  font-size: 12px;\n",
       "  vertical-align: middle;\n",
       "  width: 5%;\n",
       "  max-width: 50px;\n",
       "  min-width: 20px;\n",
       "}\n",
       "#T_9dcda_row0_col1, #T_9dcda_row1_col1, #T_9dcda_row2_col1, #T_9dcda_row3_col1, #T_9dcda_row4_col1, #T_9dcda_row5_col1, #T_9dcda_row6_col1 {\n",
       "  text-align: left;\n",
       "  font-size: 12px;\n",
       "  vertical-align: middle;\n",
       "  width: 15%;\n",
       "  max-width: 200px;\n",
       "  min-width: 100px;\n",
       "  word-break: break-word;\n",
       "}\n",
       "#T_9dcda_row0_col2, #T_9dcda_row1_col2, #T_9dcda_row2_col2, #T_9dcda_row3_col2, #T_9dcda_row4_col2, #T_9dcda_row5_col2, #T_9dcda_row6_col2 {\n",
       "  text-align: left;\n",
       "  font-size: 12px;\n",
       "  vertical-align: middle;\n",
       "  width: 30%;\n",
       "  min-width: 100px;\n",
       "}\n",
       "#T_9dcda_row0_col3, #T_9dcda_row1_col3, #T_9dcda_row2_col3, #T_9dcda_row3_col3, #T_9dcda_row4_col3, #T_9dcda_row5_col3, #T_9dcda_row6_col3 {\n",
       "  text-align: left;\n",
       "  font-size: 12px;\n",
       "  vertical-align: middle;\n",
       "  width: 25%;\n",
       "  min-width: 100px;\n",
       "}\n",
       "#T_9dcda_row0_col4, #T_9dcda_row1_col4, #T_9dcda_row2_col4, #T_9dcda_row3_col4, #T_9dcda_row4_col4, #T_9dcda_row5_col4, #T_9dcda_row6_col4 {\n",
       "  text-align: left;\n",
       "  font-size: 12px;\n",
       "  vertical-align: middle;\n",
       "  width: 20%;\n",
       "  min-width: 150px;\n",
       "}\n",
       "#T_9dcda_row0_col5, #T_9dcda_row1_col5, #T_9dcda_row2_col5, #T_9dcda_row3_col5, #T_9dcda_row4_col5, #T_9dcda_row5_col5, #T_9dcda_row6_col5 {\n",
       "  text-align: left;\n",
       "  font-size: 12px;\n",
       "  vertical-align: middle;\n",
       "  width: 10%;\n",
       "}\n",
       "</style>\n",
       "<table id=\"T_9dcda\">\n",
       "  <caption><strong>Data Frame Summary</strong><br>delay_analysis_raw_df<br>Dimensions: 21,310 x 7<br>Duplicates: 0</caption>\n",
       "  <thead>\n",
       "    <tr>\n",
       "      <th id=\"T_9dcda_level0_col0\" class=\"col_heading level0 col0\" >No</th>\n",
       "      <th id=\"T_9dcda_level0_col1\" class=\"col_heading level0 col1\" >Variable</th>\n",
       "      <th id=\"T_9dcda_level0_col2\" class=\"col_heading level0 col2\" >Stats / Values</th>\n",
       "      <th id=\"T_9dcda_level0_col3\" class=\"col_heading level0 col3\" >Freqs / (% of Valid)</th>\n",
       "      <th id=\"T_9dcda_level0_col4\" class=\"col_heading level0 col4\" >Graph</th>\n",
       "      <th id=\"T_9dcda_level0_col5\" class=\"col_heading level0 col5\" >Missing</th>\n",
       "    </tr>\n",
       "  </thead>\n",
       "  <tbody>\n",
       "    <tr>\n",
       "      <td id=\"T_9dcda_row0_col0\" class=\"data row0 col0\" >1</td>\n",
       "      <td id=\"T_9dcda_row0_col1\" class=\"data row0 col1\" ><strong>rental_id</strong><br>[int64]</td>\n",
       "      <td id=\"T_9dcda_row0_col2\" class=\"data row0 col2\" >Mean (sd) : 549712.9 (13863.4)<br>min < med < max:<br>504806.0 < 550350.0 < 576401.0<br>IQR (CV) : 19855.2 (39.7)</td>\n",
       "      <td id=\"T_9dcda_row0_col3\" class=\"data row0 col3\" >21,310 distinct values</td>\n",
       "      <td id=\"T_9dcda_row0_col4\" class=\"data row0 col4\" ><img src = \"data:image/png;base64, iVBORw0KGgoAAAANSUhEUgAAAKoAAABGCAYAAABc8A97AAAAOnRFWHRTb2Z0d2FyZQBNYXRwbG90bGliIHZlcnNpb24zLjEwLjMsIGh0dHBzOi8vbWF0cGxvdGxpYi5vcmcvZiW1igAAAAlwSFlzAAAPYQAAD2EBqD+naQAAArZJREFUeJzt3buO2kAUgOEzYQFziS1EBJ1fIFIKSpq8QR42bbot4AV4AxqEhMAIsggwpNpoE21YmEvWx/xf72WKX8YzWHvM+XwWoOg+vPcCgGs8vPcCysgY0xCRmuXl+/P5/ORzPWVAqJ4ZYxrdbvdbHMcdm+tXq9XGGPNDRHaWSyhl6ITqXy2O485wOHxKkuSm2Gaz2cfxePw1TdNPlUrFKtT1er00xnwvW6yEGkiSJLter/fzlmuWy2UjiqLmYDDY9fv95a2fmWVZNBqNOovFoiYihIqwWq3WzZE/y/M8FpHYGGNzeWEfGwi1RLbbbfVwOHxJ07Ri8+hQ5McGQi2R/X7/YPvoUPTHBkItIYdHh4b3xXjCgT9U4I6K3/I8r4r9Rkwk4GaMUCEi7hsxkbCbMUKFiLhtxETCb8YIFX9wOcOVgJsxQv0HhxdL4tPpVPW9nntHqK9webHkcDhEeZ5/3u12jyJie2fCXwj1ddYvlkyn085kMmkej8dKqMXdI0K9wPbFklDruWcc+EMFQoUKhAoVCBUqECpUIFSoQKhQgVChAqFCBUKFCoQKFQgVKhAqVCBUqECoUIFQoQKhQgVChQqEChUIFSoQKlQgVKhAqFCBUKECoUIFQoUKhAoVCBUqECpUIFSowL+dhDeOU1UuTlQhVHgRerwlocKL0OMtCRVehRpvWdpQHaaaiDDZpHBKGarLVBMRJpsUUSlDFYepJiJMNimisoYqInZTTUSYbFJEHPhDBUKFCoX+6mceKZ4VNlTmkeKlwoYqzCPFC0FD9XHoniTJknmkCBYqh+7w6c1QXTY07Xa7NxwO1xy6w9XFUH1saOr1+iOH7nD11h2VDQ0K4apnVJufIrkjwid+mYIKV91RsyyLbv3Dm80mEhHZbrfRfD5v/s/rtX621nW7Xn9NX78A2tibKkTAOg4AAAAASUVORK5CYII=\"></img></td>\n",
       "      <td id=\"T_9dcda_row0_col5\" class=\"data row0 col5\" >0<br>(0.0%)</td>\n",
       "    </tr>\n",
       "    <tr>\n",
       "      <td id=\"T_9dcda_row1_col0\" class=\"data row1 col0\" >2</td>\n",
       "      <td id=\"T_9dcda_row1_col1\" class=\"data row1 col1\" ><strong>car_id</strong><br>[int64]</td>\n",
       "      <td id=\"T_9dcda_row1_col2\" class=\"data row1 col2\" >Mean (sd) : 350030.6 (58206.2)<br>min < med < max:<br>159250.0 < 368717.0 < 417675.0<br>IQR (CV) : 77289.0 (6.0)</td>\n",
       "      <td id=\"T_9dcda_row1_col3\" class=\"data row1 col3\" >8,143 distinct values</td>\n",
       "      <td id=\"T_9dcda_row1_col4\" class=\"data row1 col4\" ><img src = \"data:image/png;base64, iVBORw0KGgoAAAANSUhEUgAAAKoAAABGCAYAAABc8A97AAAAOnRFWHRTb2Z0d2FyZQBNYXRwbG90bGliIHZlcnNpb24zLjEwLjMsIGh0dHBzOi8vbWF0cGxvdGxpYi5vcmcvZiW1igAAAAlwSFlzAAAPYQAAD2EBqD+naQAAApJJREFUeJzt3b2O2kAUQOFrkgWzWLb4CTxAyu2QaPwAKfOweYQtKFJTpElFh4QsWziLAsapEiXSwuIZO55rna9Fs7g4QnuZmV2vLEsBXNdr+wGAe7xv+wHQHZ7nDUWkb7j8Z1mWL9deJFTUwvO84XQ6/RyG4dhkfZZlied5X67FSqioSz8Mw3Ecxy9RFB2rLEzT1F+v1+P9ft8XEUJF86IoOs7n8x8GS4e3XmSYggqEChUIFSoQKlQgVKhAqFCBUKECoUIFvvDHH5Z79eHlcnmo83n+RqgQEfu9+tPp5BdF8XQ8Hp9FxGRn6iZCxW/Ge/UiItvtdrzZbB7P5/O7Jh6OUPEP0736JElu7tXbYpiCCoQKFQgVKhAqVCBUqECoUIFQoQKhQgVChQqEChUIFSoQKlQgVKhAqFCBUKECoUIFDk53jMW9p0bvPNki1A6xuffU9J0nW4TaLcb3npq+82SLUDvI5N5T03eebDFMQQVChQqEChUIFSoQKlQgVKhAqFCBUKECoUIFdqYc4/If020ToTbAIjZ/Mpl8iqJoZPK+rh8ssUGoNbM9wSQiT6vV6utsNsuqrnf9YIkNQq2f9Qkm3/dPLv4x3TYRakO6eIKpTUz9UIFQoQKhQgVChQqEChWY+q/o6rVjrQj1FV2+dqwVob6us9eOtSLUG/jS3h0MU1DB6U9UyyNvPRG5GK5lIHKMs6HaDDRFUTzkef4xCILvvV7vVHU9A5F7Gg3V9hBwEATzOI4zw4Hmw3K5/LZYLJKqb8xA5J43Q237EPBgMHg2HWhGo5GT/3se1d0MlUPAcMVbn6gcAoYT7vodle8T0ba7Qk3T1K/6gw+Hgy8ikue5v9vtHv/neq3vrfW5bdff09cvyzxd/yS7j8IAAAAASUVORK5CYII=\"></img></td>\n",
       "      <td id=\"T_9dcda_row1_col5\" class=\"data row1 col5\" >0<br>(0.0%)</td>\n",
       "    </tr>\n",
       "    <tr>\n",
       "      <td id=\"T_9dcda_row2_col0\" class=\"data row2 col0\" >3</td>\n",
       "      <td id=\"T_9dcda_row2_col1\" class=\"data row2 col1\" ><strong>checkin_type</strong><br>[object]</td>\n",
       "      <td id=\"T_9dcda_row2_col2\" class=\"data row2 col2\" >1. mobile<br>2. connect</td>\n",
       "      <td id=\"T_9dcda_row2_col3\" class=\"data row2 col3\" >17,003 (79.8%)<br>4,307 (20.2%)</td>\n",
       "      <td id=\"T_9dcda_row2_col4\" class=\"data row2 col4\" ><img src = \"data:image/png;base64, iVBORw0KGgoAAAANSUhEUgAAAJsAAAAuCAYAAAA/ZmtKAAAAOnRFWHRTb2Z0d2FyZQBNYXRwbG90bGliIHZlcnNpb24zLjEwLjMsIGh0dHBzOi8vbWF0cGxvdGxpYi5vcmcvZiW1igAAAAlwSFlzAAAPYQAAD2EBqD+naQAAAS5JREFUeJzt28Fpw0AQRuHZIEx82UUIVIyKSLEpYrsRQnuIjS/KITXkzcHva2AMfjbY6C/XdYVEKBFxj4hb9gsR5nVd1yPj8LQsy1etdc44Lt4Y4yilfGcEN9Va523bHq21J31crPM8P3vv877vt4jgY4uIaK0913X9oY8rxT3r8EfWYb0fYxPG2IQxNmGMTRhjE8bYhDE2YYxNGGMTxtiEMTZhjE0YYxPG2ISZIv4eqst+Ifp/2e/zNMY4eu9zJD5UJ84Y44iIV8ZtBy/vJ23wUpzyiZL9zZb2KRMvdcqXOSsTL23Klz0rEy97yucv4Dfin7rCGJswxiaMsQljbMIYmzDGJoyxCWNswhibMMYmjLEJY2zCGJswxiZM2pQve1YmXuqUL3NWJp6DF2F+AQpbat/wGm4yAAAAAElFTkSuQmCC\"></img></td>\n",
       "      <td id=\"T_9dcda_row2_col5\" class=\"data row2 col5\" >0<br>(0.0%)</td>\n",
       "    </tr>\n",
       "    <tr>\n",
       "      <td id=\"T_9dcda_row3_col0\" class=\"data row3 col0\" >4</td>\n",
       "      <td id=\"T_9dcda_row3_col1\" class=\"data row3 col1\" ><strong>state</strong><br>[object]</td>\n",
       "      <td id=\"T_9dcda_row3_col2\" class=\"data row3 col2\" >1. ended<br>2. canceled</td>\n",
       "      <td id=\"T_9dcda_row3_col3\" class=\"data row3 col3\" >18,045 (84.7%)<br>3,265 (15.3%)</td>\n",
       "      <td id=\"T_9dcda_row3_col4\" class=\"data row3 col4\" ><img src = \"data:image/png;base64, iVBORw0KGgoAAAANSUhEUgAAAJsAAAAuCAYAAAA/ZmtKAAAAOnRFWHRTb2Z0d2FyZQBNYXRwbG90bGliIHZlcnNpb24zLjEwLjMsIGh0dHBzOi8vbWF0cGxvdGxpYi5vcmcvZiW1igAAAAlwSFlzAAAPYQAAD2EBqD+naQAAATVJREFUeJzt28GJwzAYROHRYsLmImEMLsZFbLFbhLsxxjokIRftYS9u4B9H8L4CJB9eAgme1FoT4JAk3SXdrn4QfIR3a+0ZdfgwTdNPznmMugD9qLXuKaXfqOCGnPO4LMuzlPKKuAB9OI7je13Xcdu2m6SY2CSplPKa5/kRcQG6co88/CvycOCM2GBDbLAhNtgQG2yIDTbEBhtigw2xwYbYYENssCE22BAbbIgNNsQGm0H6f3Hu6gfBtRwNDLXWfV3XUcEvzuHz1Vp3Se+o8xm84Cx08JKY8sHF8c0W+mlBP8KnfNHzMPQjdMrnmIehH44pH79yIYk/dWFEbLAhNtgQG2yIDTbEBhtigw2xwYbYYENssCE22BAbbIgNNsQGG2KDTeiUj4kgzsKnfNHzMPSDwQts/gAKW2rfZI9knQAAAABJRU5ErkJggg==\"></img></td>\n",
       "      <td id=\"T_9dcda_row3_col5\" class=\"data row3 col5\" >0<br>(0.0%)</td>\n",
       "    </tr>\n",
       "    <tr>\n",
       "      <td id=\"T_9dcda_row4_col0\" class=\"data row4 col0\" >5</td>\n",
       "      <td id=\"T_9dcda_row4_col1\" class=\"data row4 col1\" ><strong>delay_at_checkout_in_minutes</strong><br>[float64]</td>\n",
       "      <td id=\"T_9dcda_row4_col2\" class=\"data row4 col2\" >Mean (sd) : 59.7 (1002.6)<br>min < med < max:<br>-22433.0 < 9.0 < 71084.0<br>IQR (CV) : 103.0 (0.1)</td>\n",
       "      <td id=\"T_9dcda_row4_col3\" class=\"data row4 col3\" >1,745 distinct values</td>\n",
       "      <td id=\"T_9dcda_row4_col4\" class=\"data row4 col4\" ><img src = \"data:image/png;base64, iVBORw0KGgoAAAANSUhEUgAAAKoAAABGCAYAAABc8A97AAAAOnRFWHRTb2Z0d2FyZQBNYXRwbG90bGliIHZlcnNpb24zLjEwLjMsIGh0dHBzOi8vbWF0cGxvdGxpYi5vcmcvZiW1igAAAAlwSFlzAAAPYQAAD2EBqD+naQAAAXtJREFUeJzt10GKWkEUheFbQYxO3kMEF+Mistgswt1IUw7SJqCVeaCTtHS3nub7pvUunME/eW2MUfDovtx7APyPxb0H/E1rbV1VyxvPf40xnt9yD/fzsKG21tbb7fbbNE2bW+5Pp9NTa+27WD+Hhw21qpbTNG32+/3zPM/n1xz23leHw2FzPB6XVSXUT+CRQ62qqnmez7vd7scNp+s3H8Pd+JkiglCJIFQiCJUIQiWCUIkgVCIIlQhCJYJQiSBUIgiVCEIlglCJIFQiCJUIQiWCUIkgVCIIlQhCJYJQiSBUIgiVCEIlglCJIFQiCJUIQiWCUIkgVCIIlQhCJYJQiSBUIgiVCEIlglCJIFQiCJUIQiWCUIkgVCIIlQhCJYJQiSBUIgiVCEIlglCJIFQiCJUIQiWCUIkgVCIIlQhCJYJQiSBUIgiVCEIlglCJIFQiLP71QWttVVVfP2DLn6br9brova9ee9h7X10ul0VVTa21d5jGO/g5xji/9Pgbv2MxEOPtQdYAAAAASUVORK5CYII=\"></img></td>\n",
       "      <td id=\"T_9dcda_row4_col5\" class=\"data row4 col5\" >4,964<br>(23.3%)</td>\n",
       "    </tr>\n",
       "    <tr>\n",
       "      <td id=\"T_9dcda_row5_col0\" class=\"data row5 col0\" >6</td>\n",
       "      <td id=\"T_9dcda_row5_col1\" class=\"data row5 col1\" ><strong>previous_ended_rental_id</strong><br>[float64]</td>\n",
       "      <td id=\"T_9dcda_row5_col2\" class=\"data row5 col2\" >Mean (sd) : 550127.4 (13184.0)<br>min < med < max:<br>505628.0 < 550567.0 < 575053.0<br>IQR (CV) : 19927.0 (41.7)</td>\n",
       "      <td id=\"T_9dcda_row5_col3\" class=\"data row5 col3\" >1,788 distinct values</td>\n",
       "      <td id=\"T_9dcda_row5_col4\" class=\"data row5 col4\" ><img src = \"data:image/png;base64, iVBORw0KGgoAAAANSUhEUgAAAKoAAABGCAYAAABc8A97AAAAOnRFWHRTb2Z0d2FyZQBNYXRwbG90bGliIHZlcnNpb24zLjEwLjMsIGh0dHBzOi8vbWF0cGxvdGxpYi5vcmcvZiW1igAAAAlwSFlzAAAPYQAAD2EBqD+naQAAAqdJREFUeJzt3c2OmlAYgOHv1HHEn0D8ie68gUm6MHHDBXTZi+0lzMJF196BOxNjMNIhItJN20yTqQgH6/nI++yPsHgDHEj8TJ7nArju06NPALjF06NPAH8zxnRF5NniJ055nr9pO3YRQnWIMaY7Ho+/+r4/rPobh8Nhb4z5VjaYRx77FoTqlmff94dhGL4FQZCUXRxFkbdarYa73e5ZRMrG8shjFyJUBwVBkEyn0x8Vl3e1HvsaNlNQgSvqHVhsSvzL5dKu+3yagFBrZrMpSdPUy7LsJUmSVxGpevttJEKtX+VNyWazGa7X6975fG7d6+S0ItQ7qbIp2e/3d9uMaEeoDZNlWVtEfGNM2aVOPx8TaoPEcdxO0/TzfD5vtVqtUo8drj8fE2qDnE6nJ8/zeovFIpnNZvsya11/PibUBur3+417PuaFP1QgVKjArf8f+LrkFkL9AF+X3EOoH+PrkmMI9Qq+LrmDzRRUIFSoQKhQgVChAqFCBUKFCoQKFQgVKhAqVCBUqECoUIFQoQKhQgVChQqEChUIFSoQKlQgVKhAqFCBUKECoUIFQoUKhAoVCBUqECpUIFSoQKhQgVChAn+ShtpYTGQRKRihTqiohc1EFpHiEeqEilrYTGS5ZYQ6oaJWVSay/HL1f2XZTEEFQoUKjb31W0w1EWGyiXMaGarNVBMRJpu4qJGhisVUExEmm7ioqaGKSLWpJiJMNnERmymoQKhQgVChgtPPqAzOxW/OhsrgXLx311BtX7oPBoNpGIYHBueiMFSL2LzRaPQlCIJ+hbV/roqdTueVwbm4Gqrt7VdEXpbL5ffJZHIou56rIt4ruqJaz633PC/lpTts3fSMytx6PNpNoUZR5JX94ePx6ImIxHHsbbfb3v9cr/XYWs/bdv0tff0EzPuI/xSPXe8AAAAASUVORK5CYII=\"></img></td>\n",
       "      <td id=\"T_9dcda_row5_col5\" class=\"data row5 col5\" >19,469<br>(91.4%)</td>\n",
       "    </tr>\n",
       "    <tr>\n",
       "      <td id=\"T_9dcda_row6_col0\" class=\"data row6 col0\" >7</td>\n",
       "      <td id=\"T_9dcda_row6_col1\" class=\"data row6 col1\" ><strong>time_delta_with_previous_rental_in_minutes</strong><br>[float64]</td>\n",
       "      <td id=\"T_9dcda_row6_col2\" class=\"data row6 col2\" >Mean (sd) : 279.3 (254.6)<br>min < med < max:<br>0.0 < 180.0 < 720.0<br>IQR (CV) : 480.0 (1.1)</td>\n",
       "      <td id=\"T_9dcda_row6_col3\" class=\"data row6 col3\" >25 distinct values</td>\n",
       "      <td id=\"T_9dcda_row6_col4\" class=\"data row6 col4\" ><img src = \"data:image/png;base64, iVBORw0KGgoAAAANSUhEUgAAAKoAAABGCAYAAABc8A97AAAAOnRFWHRTb2Z0d2FyZQBNYXRwbG90bGliIHZlcnNpb24zLjEwLjMsIGh0dHBzOi8vbWF0cGxvdGxpYi5vcmcvZiW1igAAAAlwSFlzAAAPYQAAD2EBqD+naQAAAslJREFUeJzt3ctu2kAUgOEzJaABJFtcBDteIFIXSGx4gC77sH2EIrHImjdgh4SQEW4Q5tIVVaWmYGY8gWP+bx07XvxyOGOTMafTSYBH9+XeFwDk8XLtB4wxdRGpOZ5/dzqd3h2PBf64GKoxpt7pdL5HUdRyOfl6vV4ZY34QK3xdu6PWoihqjcfj9ziOt7ecOEkSO51OW8vlsiYihAovV//0i4jEcbzt9Xq/HM5fdzgG+AfDFFQgVKhAqFCBUKECoUIFQoUKhAoVCBUqECpUIFSoQKhQgVChAqFCBUKFCoQKFQgVKhAqVCBUqECoUIFQoQKhQgVChQqEChUIFSoQKlQgVKhAqFCBUKECoUIFQoUKhAoVCBUqECpUyPUfp4E8Qm5MQqgoROiNSQgVRQm6MQmholChNiZhmIIKQe+oh8OhKiKRMcb1FOz8BxEJGGqaptUsy74OBoNKpVK56TPLGTv/4SxYqLvd7sVa2xgOh9t+v7+69fgkSexkMuktl8uuMWbtcgkEXh7Bh6lms+n04dr3jszduFwedur3uSOzD2v5PGyoZ653ZGEf1lJheQoqECpUIFSoQKhQgVChwsNP/fg8nu+TRsfjsVrk9fyNUEvGIzbbbre/xXHcdPm9WZbZw+Hwut1uf4qIy3LiRaUN9RlfiPF5eTnLMisir6PR6K3b7d78yHo+n7dms1ljv99Xbj02j1KGeu8XYkJ+JeMK55eXz6FZazOXByyr1SroA5ZShlrECzGuj2BDfyUjD5eXl0OH5quUoZ55PH4VcX8EG/QrGc+q1KHeU6ivZDwrQv0Pj2HMa5nGcwgMukR0T4T6AZ9hzGeZxncIDL1EdE+E+gGfYcxnmcZ3CAy9RHRPhHqByzBWxPTsOgQ++uTug2f9UIFQoQKhQoVcn1GTJLG3nniz2VgRkTRN7WKxaHzm8Vp/t9br9j0+T1+/ATTFq3uP99jCAAAAAElFTkSuQmCC\"></img></td>\n",
       "      <td id=\"T_9dcda_row6_col5\" class=\"data row6 col5\" >19,469<br>(91.4%)</td>\n",
       "    </tr>\n",
       "  </tbody>\n",
       "</table>\n"
      ],
      "text/plain": [
       "<pandas.io.formats.style.Styler at 0x7f98564841d0>"
      ]
     },
     "execution_count": 4,
     "metadata": {},
     "output_type": "execute_result"
    }
   ],
   "source": [
    "dfSummary(delay_analysis_raw_df)"
   ]
  },
  {
   "cell_type": "code",
   "execution_count": 5,
   "id": "7b58bdb1",
   "metadata": {},
   "outputs": [
    {
     "data": {
      "text/html": [
       "<pre style=\"white-space:pre;overflow-x:auto;line-height:normal;font-family:Menlo,'DejaVu Sans Mono',consolas,'Courier New',monospace\">╭──────────────────────────────────────────────── skimpy summary ─────────────────────────────────────────────────╮\n",
       "│ <span style=\"font-style: italic\">         Data Summary         </span> <span style=\"font-style: italic\">      Data Types       </span>                                                          │\n",
       "│ ┏━━━━━━━━━━━━━━━━━━━┳━━━━━━━━┓ ┏━━━━━━━━━━━━━┳━━━━━━━┓                                                          │\n",
       "│ ┃<span style=\"color: #008080; text-decoration-color: #008080; font-weight: bold\"> Dataframe         </span>┃<span style=\"color: #008080; text-decoration-color: #008080; font-weight: bold\"> Values </span>┃ ┃<span style=\"color: #008080; text-decoration-color: #008080; font-weight: bold\"> Column Type </span>┃<span style=\"color: #008080; text-decoration-color: #008080; font-weight: bold\"> Count </span>┃                                                          │\n",
       "│ ┡━━━━━━━━━━━━━━━━━━━╇━━━━━━━━┩ ┡━━━━━━━━━━━━━╇━━━━━━━┩                                                          │\n",
       "│ │ Number of rows    │ 21310  │ │ float64     │ 3     │                                                          │\n",
       "│ │ Number of columns │ 7      │ │ int64       │ 2     │                                                          │\n",
       "│ └───────────────────┴────────┘ │ string      │ 2     │                                                          │\n",
       "│                                └─────────────┴───────┘                                                          │\n",
       "│ <span style=\"font-style: italic\">                                                    number                                                    </span>  │\n",
       "│ ┏━━━━━━━━━━━━━━┳━━━━━━━┳━━━━━━━━━━━━━━┳━━━━━━━━┳━━━━━━━┳━━━━━━━━┳━━━━━━━━┳━━━━━━━━┳━━━━━━━━┳━━━━━━━━┳━━━━━━━━┓  │\n",
       "│ ┃<span style=\"font-weight: bold\"> column       </span>┃<span style=\"font-weight: bold\"> NA    </span>┃<span style=\"font-weight: bold\"> NA %         </span>┃<span style=\"font-weight: bold\"> mean   </span>┃<span style=\"font-weight: bold\"> sd    </span>┃<span style=\"font-weight: bold\"> p0     </span>┃<span style=\"font-weight: bold\"> p25    </span>┃<span style=\"font-weight: bold\"> p50    </span>┃<span style=\"font-weight: bold\"> p75    </span>┃<span style=\"font-weight: bold\"> p100   </span>┃<span style=\"font-weight: bold\"> hist   </span>┃  │\n",
       "│ ┡━━━━━━━━━━━━━━╇━━━━━━━╇━━━━━━━━━━━━━━╇━━━━━━━━╇━━━━━━━╇━━━━━━━━╇━━━━━━━━╇━━━━━━━━╇━━━━━━━━╇━━━━━━━━╇━━━━━━━━┩  │\n",
       "│ │ <span style=\"color: #af87ff; text-decoration-color: #af87ff\">rental_id   </span> │ <span style=\"color: #008080; text-decoration-color: #008080\">    0</span> │ <span style=\"color: #008080; text-decoration-color: #008080\">           0</span> │ <span style=\"color: #008080; text-decoration-color: #008080\">549700</span> │ <span style=\"color: #008080; text-decoration-color: #008080\">13860</span> │ <span style=\"color: #008080; text-decoration-color: #008080\">504800</span> │ <span style=\"color: #008080; text-decoration-color: #008080\">540600</span> │ <span style=\"color: #008080; text-decoration-color: #008080\">550400</span> │ <span style=\"color: #008080; text-decoration-color: #008080\">560500</span> │ <span style=\"color: #008080; text-decoration-color: #008080\">576400</span> │ <span style=\"color: #008000; text-decoration-color: #008000\">▁▁▅█▇▄</span> │  │\n",
       "│ │ <span style=\"color: #af87ff; text-decoration-color: #af87ff\">car_id      </span> │ <span style=\"color: #008080; text-decoration-color: #008080\">    0</span> │ <span style=\"color: #008080; text-decoration-color: #008080\">           0</span> │ <span style=\"color: #008080; text-decoration-color: #008080\">350000</span> │ <span style=\"color: #008080; text-decoration-color: #008080\">58210</span> │ <span style=\"color: #008080; text-decoration-color: #008080\">159200</span> │ <span style=\"color: #008080; text-decoration-color: #008080\">317600</span> │ <span style=\"color: #008080; text-decoration-color: #008080\">368700</span> │ <span style=\"color: #008080; text-decoration-color: #008080\">394900</span> │ <span style=\"color: #008080; text-decoration-color: #008080\">417700</span> │ <span style=\"color: #008000; text-decoration-color: #008000\">▁▁▁▃▅█</span> │  │\n",
       "│ │ <span style=\"color: #af87ff; text-decoration-color: #af87ff\">delay_at_che</span> │ <span style=\"color: #008080; text-decoration-color: #008080\"> 4964</span> │ <span style=\"color: #008080; text-decoration-color: #008080\">23.294228061</span> │ <span style=\"color: #008080; text-decoration-color: #008080\">  59.7</span> │ <span style=\"color: #008080; text-decoration-color: #008080\"> 1003</span> │ <span style=\"color: #008080; text-decoration-color: #008080\">-22430</span> │ <span style=\"color: #008080; text-decoration-color: #008080\">   -36</span> │ <span style=\"color: #008080; text-decoration-color: #008080\">     9</span> │ <span style=\"color: #008080; text-decoration-color: #008080\">    67</span> │ <span style=\"color: #008080; text-decoration-color: #008080\"> 71080</span> │ <span style=\"color: #008000; text-decoration-color: #008000\">   █  </span> │  │\n",
       "│ │ <span style=\"color: #af87ff; text-decoration-color: #af87ff\">ckout_in_min</span> │       │ <span style=\"color: #008080; text-decoration-color: #008080\">       94275</span> │        │       │        │        │        │        │        │        │  │\n",
       "│ │ <span style=\"color: #af87ff; text-decoration-color: #af87ff\">utes        </span> │       │              │        │       │        │        │        │        │        │        │  │\n",
       "│ │ <span style=\"color: #af87ff; text-decoration-color: #af87ff\">previous_end</span> │ <span style=\"color: #008080; text-decoration-color: #008080\">19469</span> │ <span style=\"color: #008080; text-decoration-color: #008080\">91.360863444</span> │ <span style=\"color: #008080; text-decoration-color: #008080\">550100</span> │ <span style=\"color: #008080; text-decoration-color: #008080\">13180</span> │ <span style=\"color: #008080; text-decoration-color: #008080\">505600</span> │ <span style=\"color: #008080; text-decoration-color: #008080\">540900</span> │ <span style=\"color: #008080; text-decoration-color: #008080\">550600</span> │ <span style=\"color: #008080; text-decoration-color: #008080\">560800</span> │ <span style=\"color: #008080; text-decoration-color: #008080\">575100</span> │ <span style=\"color: #008000; text-decoration-color: #008000\">▁▁▅██▅</span> │  │\n",
       "│ │ <span style=\"color: #af87ff; text-decoration-color: #af87ff\">ed_rental_id</span> │       │ <span style=\"color: #008080; text-decoration-color: #008080\">       39231</span> │        │       │        │        │        │        │        │        │  │\n",
       "│ │ <span style=\"color: #af87ff; text-decoration-color: #af87ff\">time_delta_w</span> │ <span style=\"color: #008080; text-decoration-color: #008080\">19469</span> │ <span style=\"color: #008080; text-decoration-color: #008080\">91.360863444</span> │ <span style=\"color: #008080; text-decoration-color: #008080\"> 279.3</span> │ <span style=\"color: #008080; text-decoration-color: #008080\">254.6</span> │ <span style=\"color: #008080; text-decoration-color: #008080\">     0</span> │ <span style=\"color: #008080; text-decoration-color: #008080\">    60</span> │ <span style=\"color: #008080; text-decoration-color: #008080\">   180</span> │ <span style=\"color: #008080; text-decoration-color: #008080\">   540</span> │ <span style=\"color: #008080; text-decoration-color: #008080\">   720</span> │ <span style=\"color: #008000; text-decoration-color: #008000\">█▄▂▁▂▅</span> │  │\n",
       "│ │ <span style=\"color: #af87ff; text-decoration-color: #af87ff\">ith_previous</span> │       │ <span style=\"color: #008080; text-decoration-color: #008080\">       39231</span> │        │       │        │        │        │        │        │        │  │\n",
       "│ │ <span style=\"color: #af87ff; text-decoration-color: #af87ff\">_rental_in_m</span> │       │              │        │       │        │        │        │        │        │        │  │\n",
       "│ │ <span style=\"color: #af87ff; text-decoration-color: #af87ff\">inutes      </span> │       │              │        │       │        │        │        │        │        │        │  │\n",
       "│ └──────────────┴───────┴──────────────┴────────┴───────┴────────┴────────┴────────┴────────┴────────┴────────┘  │\n",
       "│ <span style=\"font-style: italic\">                                                    string                                                    </span>  │\n",
       "│ ┏━━━━━━━━━━━━━┳━━━━┳━━━━━━┳━━━━━━━━━━┳━━━━━━━━━━┳━━━━━━━━━━┳━━━━━━━━┳━━━━━━━━━━━━━┳━━━━━━━━━━━━━┳━━━━━━━━━━━━┓  │\n",
       "│ ┃<span style=\"font-weight: bold\">             </span>┃<span style=\"font-weight: bold\">    </span>┃<span style=\"font-weight: bold\">      </span>┃<span style=\"font-weight: bold\">          </span>┃<span style=\"font-weight: bold\">          </span>┃<span style=\"font-weight: bold\">          </span>┃<span style=\"font-weight: bold\">        </span>┃<span style=\"font-weight: bold\"> chars per   </span>┃<span style=\"font-weight: bold\"> words per   </span>┃<span style=\"font-weight: bold\"> total      </span>┃  │\n",
       "│ ┃<span style=\"font-weight: bold\"> column      </span>┃<span style=\"font-weight: bold\"> NA </span>┃<span style=\"font-weight: bold\"> NA % </span>┃<span style=\"font-weight: bold\"> shortest </span>┃<span style=\"font-weight: bold\"> longest  </span>┃<span style=\"font-weight: bold\"> min      </span>┃<span style=\"font-weight: bold\"> max    </span>┃<span style=\"font-weight: bold\"> row         </span>┃<span style=\"font-weight: bold\"> row         </span>┃<span style=\"font-weight: bold\"> words      </span>┃  │\n",
       "│ ┡━━━━━━━━━━━━━╇━━━━╇━━━━━━╇━━━━━━━━━━╇━━━━━━━━━━╇━━━━━━━━━━╇━━━━━━━━╇━━━━━━━━━━━━━╇━━━━━━━━━━━━━╇━━━━━━━━━━━━┩  │\n",
       "│ │ <span style=\"color: #af87ff; text-decoration-color: #af87ff\">checkin_typ</span> │ <span style=\"color: #008080; text-decoration-color: #008080\"> 0</span> │ <span style=\"color: #008080; text-decoration-color: #008080\">   0</span> │ <span style=\"color: #af87ff; text-decoration-color: #af87ff\">mobile  </span> │ <span style=\"color: #af87ff; text-decoration-color: #af87ff\">connect </span> │ <span style=\"color: #af87ff; text-decoration-color: #af87ff\">connect </span> │ <span style=\"color: #af87ff; text-decoration-color: #af87ff\">mobile</span> │ <span style=\"color: #008080; text-decoration-color: #008080\">        6.2</span> │ <span style=\"color: #008080; text-decoration-color: #008080\">          1</span> │ <span style=\"color: #008080; text-decoration-color: #008080\">     21310</span> │  │\n",
       "│ │ <span style=\"color: #af87ff; text-decoration-color: #af87ff\">e          </span> │    │      │          │          │          │        │             │             │            │  │\n",
       "│ │ <span style=\"color: #af87ff; text-decoration-color: #af87ff\">state      </span> │ <span style=\"color: #008080; text-decoration-color: #008080\"> 0</span> │ <span style=\"color: #008080; text-decoration-color: #008080\">   0</span> │ <span style=\"color: #af87ff; text-decoration-color: #af87ff\">ended   </span> │ <span style=\"color: #af87ff; text-decoration-color: #af87ff\">canceled</span> │ <span style=\"color: #af87ff; text-decoration-color: #af87ff\">canceled</span> │ <span style=\"color: #af87ff; text-decoration-color: #af87ff\">ended </span> │ <span style=\"color: #008080; text-decoration-color: #008080\">       5.46</span> │ <span style=\"color: #008080; text-decoration-color: #008080\">          1</span> │ <span style=\"color: #008080; text-decoration-color: #008080\">     21310</span> │  │\n",
       "│ └─────────────┴────┴──────┴──────────┴──────────┴──────────┴────────┴─────────────┴─────────────┴────────────┘  │\n",
       "╰────────────────────────────────────────────────────── End ──────────────────────────────────────────────────────╯\n",
       "</pre>\n"
      ],
      "text/plain": [
       "╭──────────────────────────────────────────────── skimpy summary ─────────────────────────────────────────────────╮\n",
       "│ \u001b[3m         Data Summary         \u001b[0m \u001b[3m      Data Types       \u001b[0m                                                          │\n",
       "│ ┏━━━━━━━━━━━━━━━━━━━┳━━━━━━━━┓ ┏━━━━━━━━━━━━━┳━━━━━━━┓                                                          │\n",
       "│ ┃\u001b[1;36m \u001b[0m\u001b[1;36mDataframe        \u001b[0m\u001b[1;36m \u001b[0m┃\u001b[1;36m \u001b[0m\u001b[1;36mValues\u001b[0m\u001b[1;36m \u001b[0m┃ ┃\u001b[1;36m \u001b[0m\u001b[1;36mColumn Type\u001b[0m\u001b[1;36m \u001b[0m┃\u001b[1;36m \u001b[0m\u001b[1;36mCount\u001b[0m\u001b[1;36m \u001b[0m┃                                                          │\n",
       "│ ┡━━━━━━━━━━━━━━━━━━━╇━━━━━━━━┩ ┡━━━━━━━━━━━━━╇━━━━━━━┩                                                          │\n",
       "│ │ Number of rows    │ 21310  │ │ float64     │ 3     │                                                          │\n",
       "│ │ Number of columns │ 7      │ │ int64       │ 2     │                                                          │\n",
       "│ └───────────────────┴────────┘ │ string      │ 2     │                                                          │\n",
       "│                                └─────────────┴───────┘                                                          │\n",
       "│ \u001b[3m                                                    number                                                    \u001b[0m  │\n",
       "│ ┏━━━━━━━━━━━━━━┳━━━━━━━┳━━━━━━━━━━━━━━┳━━━━━━━━┳━━━━━━━┳━━━━━━━━┳━━━━━━━━┳━━━━━━━━┳━━━━━━━━┳━━━━━━━━┳━━━━━━━━┓  │\n",
       "│ ┃\u001b[1m \u001b[0m\u001b[1mcolumn      \u001b[0m\u001b[1m \u001b[0m┃\u001b[1m \u001b[0m\u001b[1mNA   \u001b[0m\u001b[1m \u001b[0m┃\u001b[1m \u001b[0m\u001b[1mNA %        \u001b[0m\u001b[1m \u001b[0m┃\u001b[1m \u001b[0m\u001b[1mmean  \u001b[0m\u001b[1m \u001b[0m┃\u001b[1m \u001b[0m\u001b[1msd   \u001b[0m\u001b[1m \u001b[0m┃\u001b[1m \u001b[0m\u001b[1mp0    \u001b[0m\u001b[1m \u001b[0m┃\u001b[1m \u001b[0m\u001b[1mp25   \u001b[0m\u001b[1m \u001b[0m┃\u001b[1m \u001b[0m\u001b[1mp50   \u001b[0m\u001b[1m \u001b[0m┃\u001b[1m \u001b[0m\u001b[1mp75   \u001b[0m\u001b[1m \u001b[0m┃\u001b[1m \u001b[0m\u001b[1mp100  \u001b[0m\u001b[1m \u001b[0m┃\u001b[1m \u001b[0m\u001b[1mhist  \u001b[0m\u001b[1m \u001b[0m┃  │\n",
       "│ ┡━━━━━━━━━━━━━━╇━━━━━━━╇━━━━━━━━━━━━━━╇━━━━━━━━╇━━━━━━━╇━━━━━━━━╇━━━━━━━━╇━━━━━━━━╇━━━━━━━━╇━━━━━━━━╇━━━━━━━━┩  │\n",
       "│ │ \u001b[38;5;141mrental_id   \u001b[0m │ \u001b[36m    0\u001b[0m │ \u001b[36m           0\u001b[0m │ \u001b[36m549700\u001b[0m │ \u001b[36m13860\u001b[0m │ \u001b[36m504800\u001b[0m │ \u001b[36m540600\u001b[0m │ \u001b[36m550400\u001b[0m │ \u001b[36m560500\u001b[0m │ \u001b[36m576400\u001b[0m │ \u001b[32m▁▁▅█▇▄\u001b[0m │  │\n",
       "│ │ \u001b[38;5;141mcar_id      \u001b[0m │ \u001b[36m    0\u001b[0m │ \u001b[36m           0\u001b[0m │ \u001b[36m350000\u001b[0m │ \u001b[36m58210\u001b[0m │ \u001b[36m159200\u001b[0m │ \u001b[36m317600\u001b[0m │ \u001b[36m368700\u001b[0m │ \u001b[36m394900\u001b[0m │ \u001b[36m417700\u001b[0m │ \u001b[32m▁▁▁▃▅█\u001b[0m │  │\n",
       "│ │ \u001b[38;5;141mdelay_at_che\u001b[0m │ \u001b[36m 4964\u001b[0m │ \u001b[36m23.294228061\u001b[0m │ \u001b[36m  59.7\u001b[0m │ \u001b[36m 1003\u001b[0m │ \u001b[36m-22430\u001b[0m │ \u001b[36m   -36\u001b[0m │ \u001b[36m     9\u001b[0m │ \u001b[36m    67\u001b[0m │ \u001b[36m 71080\u001b[0m │ \u001b[32m   █  \u001b[0m │  │\n",
       "│ │ \u001b[38;5;141mckout_in_min\u001b[0m │       │ \u001b[36m       94275\u001b[0m │        │       │        │        │        │        │        │        │  │\n",
       "│ │ \u001b[38;5;141mutes        \u001b[0m │       │              │        │       │        │        │        │        │        │        │  │\n",
       "│ │ \u001b[38;5;141mprevious_end\u001b[0m │ \u001b[36m19469\u001b[0m │ \u001b[36m91.360863444\u001b[0m │ \u001b[36m550100\u001b[0m │ \u001b[36m13180\u001b[0m │ \u001b[36m505600\u001b[0m │ \u001b[36m540900\u001b[0m │ \u001b[36m550600\u001b[0m │ \u001b[36m560800\u001b[0m │ \u001b[36m575100\u001b[0m │ \u001b[32m▁▁▅██▅\u001b[0m │  │\n",
       "│ │ \u001b[38;5;141med_rental_id\u001b[0m │       │ \u001b[36m       39231\u001b[0m │        │       │        │        │        │        │        │        │  │\n",
       "│ │ \u001b[38;5;141mtime_delta_w\u001b[0m │ \u001b[36m19469\u001b[0m │ \u001b[36m91.360863444\u001b[0m │ \u001b[36m 279.3\u001b[0m │ \u001b[36m254.6\u001b[0m │ \u001b[36m     0\u001b[0m │ \u001b[36m    60\u001b[0m │ \u001b[36m   180\u001b[0m │ \u001b[36m   540\u001b[0m │ \u001b[36m   720\u001b[0m │ \u001b[32m█▄▂▁▂▅\u001b[0m │  │\n",
       "│ │ \u001b[38;5;141mith_previous\u001b[0m │       │ \u001b[36m       39231\u001b[0m │        │       │        │        │        │        │        │        │  │\n",
       "│ │ \u001b[38;5;141m_rental_in_m\u001b[0m │       │              │        │       │        │        │        │        │        │        │  │\n",
       "│ │ \u001b[38;5;141minutes      \u001b[0m │       │              │        │       │        │        │        │        │        │        │  │\n",
       "│ └──────────────┴───────┴──────────────┴────────┴───────┴────────┴────────┴────────┴────────┴────────┴────────┘  │\n",
       "│ \u001b[3m                                                    string                                                    \u001b[0m  │\n",
       "│ ┏━━━━━━━━━━━━━┳━━━━┳━━━━━━┳━━━━━━━━━━┳━━━━━━━━━━┳━━━━━━━━━━┳━━━━━━━━┳━━━━━━━━━━━━━┳━━━━━━━━━━━━━┳━━━━━━━━━━━━┓  │\n",
       "│ ┃\u001b[1m             \u001b[0m┃\u001b[1m    \u001b[0m┃\u001b[1m      \u001b[0m┃\u001b[1m          \u001b[0m┃\u001b[1m          \u001b[0m┃\u001b[1m          \u001b[0m┃\u001b[1m        \u001b[0m┃\u001b[1m \u001b[0m\u001b[1mchars per  \u001b[0m\u001b[1m \u001b[0m┃\u001b[1m \u001b[0m\u001b[1mwords per  \u001b[0m\u001b[1m \u001b[0m┃\u001b[1m \u001b[0m\u001b[1mtotal     \u001b[0m\u001b[1m \u001b[0m┃  │\n",
       "│ ┃\u001b[1m \u001b[0m\u001b[1mcolumn     \u001b[0m\u001b[1m \u001b[0m┃\u001b[1m \u001b[0m\u001b[1mNA\u001b[0m\u001b[1m \u001b[0m┃\u001b[1m \u001b[0m\u001b[1mNA %\u001b[0m\u001b[1m \u001b[0m┃\u001b[1m \u001b[0m\u001b[1mshortest\u001b[0m\u001b[1m \u001b[0m┃\u001b[1m \u001b[0m\u001b[1mlongest \u001b[0m\u001b[1m \u001b[0m┃\u001b[1m \u001b[0m\u001b[1mmin     \u001b[0m\u001b[1m \u001b[0m┃\u001b[1m \u001b[0m\u001b[1mmax   \u001b[0m\u001b[1m \u001b[0m┃\u001b[1m \u001b[0m\u001b[1mrow        \u001b[0m\u001b[1m \u001b[0m┃\u001b[1m \u001b[0m\u001b[1mrow        \u001b[0m\u001b[1m \u001b[0m┃\u001b[1m \u001b[0m\u001b[1mwords     \u001b[0m\u001b[1m \u001b[0m┃  │\n",
       "│ ┡━━━━━━━━━━━━━╇━━━━╇━━━━━━╇━━━━━━━━━━╇━━━━━━━━━━╇━━━━━━━━━━╇━━━━━━━━╇━━━━━━━━━━━━━╇━━━━━━━━━━━━━╇━━━━━━━━━━━━┩  │\n",
       "│ │ \u001b[38;5;141mcheckin_typ\u001b[0m │ \u001b[36m 0\u001b[0m │ \u001b[36m   0\u001b[0m │ \u001b[38;5;141mmobile  \u001b[0m │ \u001b[38;5;141mconnect \u001b[0m │ \u001b[38;5;141mconnect \u001b[0m │ \u001b[38;5;141mmobile\u001b[0m │ \u001b[36m        6.2\u001b[0m │ \u001b[36m          1\u001b[0m │ \u001b[36m     21310\u001b[0m │  │\n",
       "│ │ \u001b[38;5;141me          \u001b[0m │    │      │          │          │          │        │             │             │            │  │\n",
       "│ │ \u001b[38;5;141mstate      \u001b[0m │ \u001b[36m 0\u001b[0m │ \u001b[36m   0\u001b[0m │ \u001b[38;5;141mended   \u001b[0m │ \u001b[38;5;141mcanceled\u001b[0m │ \u001b[38;5;141mcanceled\u001b[0m │ \u001b[38;5;141mended \u001b[0m │ \u001b[36m       5.46\u001b[0m │ \u001b[36m          1\u001b[0m │ \u001b[36m     21310\u001b[0m │  │\n",
       "│ └─────────────┴────┴──────┴──────────┴──────────┴──────────┴────────┴─────────────┴─────────────┴────────────┘  │\n",
       "╰────────────────────────────────────────────────────── End ──────────────────────────────────────────────────────╯\n"
      ]
     },
     "metadata": {},
     "output_type": "display_data"
    }
   ],
   "source": [
    "skim(delay_analysis_raw_df)"
   ]
  },
  {
   "cell_type": "markdown",
   "id": "2447a514",
   "metadata": {},
   "source": [
    "On voit qu'il existe des valeurs vraissemblablement exceptionnelles pour `delay_at_checkout_in_minutes`: \n",
    "- en avance de 22433 minutes soit environ 15j!\n",
    "- en retard de 71084 minutes soit environ 50 jours!\n",
    "\n",
    "Des locations longue durée ?"
   ]
  },
  {
   "cell_type": "markdown",
   "id": "8d89229d",
   "metadata": {},
   "source": [
    "### Outliers"
   ]
  },
  {
   "cell_type": "code",
   "execution_count": 6,
   "id": "88506c5f",
   "metadata": {},
   "outputs": [],
   "source": [
    "def get_outliers_mask(df_in, col_name, keep_na=True):\n",
    "    q1 = df_in[col_name].quantile(0.25)\n",
    "    q3 = df_in[col_name].quantile(0.75)\n",
    "    iqr = q3-q1 #Interquartile range\n",
    "    fence_low  = q1-1.5*iqr\n",
    "    fence_high = q3+1.5*iqr\n",
    "    if keep_na:\n",
    "        # df_out = df_in.loc[df_in[col_name].isna() | ((df_in[col_name] > fence_low) & (df_in[col_name] < fence_high))]\n",
    "        mask_out = df_in[col_name].isna() | ((df_in[col_name] > fence_low) & (df_in[col_name] < fence_high))\n",
    "    else:    \n",
    "        # df_out = df_in.loc[(df_in[col_name] > fence_low) & (df_in[col_name] < fence_high)]\n",
    "        mask_out = (df_in[col_name] > fence_low) & (df_in[col_name] < fence_high)\n",
    "    #return df_out\n",
    "    return mask_out"
   ]
  },
  {
   "cell_type": "code",
   "execution_count": 7,
   "id": "64fd48e2",
   "metadata": {},
   "outputs": [
    {
     "name": "stdout",
     "output_type": "stream",
     "text": [
      "Found 2430 outliers\n"
     ]
    }
   ],
   "source": [
    "outliers_mask = get_outliers_mask(delay_analysis_raw_df, \"delay_at_checkout_in_minutes\")\n",
    "\n",
    "outliers_df = delay_analysis_raw_df[~outliers_mask]\n",
    "\n",
    "print(f\"Found {len(outliers_df)} outliers\")"
   ]
  },
  {
   "cell_type": "code",
   "execution_count": 8,
   "id": "13e09641",
   "metadata": {},
   "outputs": [
    {
     "data": {
      "text/html": [
       "<style type=\"text/css\">\n",
       "#T_9ef25 thead>tr>th {\n",
       "  text-align: left;\n",
       "}\n",
       "#T_9ef25_row0_col0, #T_9ef25_row1_col0, #T_9ef25_row2_col0, #T_9ef25_row3_col0, #T_9ef25_row4_col0, #T_9ef25_row5_col0, #T_9ef25_row6_col0 {\n",
       "  text-align: left;\n",
       "  font-size: 12px;\n",
       "  vertical-align: middle;\n",
       "  width: 5%;\n",
       "  max-width: 50px;\n",
       "  min-width: 20px;\n",
       "}\n",
       "#T_9ef25_row0_col1, #T_9ef25_row1_col1, #T_9ef25_row2_col1, #T_9ef25_row3_col1, #T_9ef25_row4_col1, #T_9ef25_row5_col1, #T_9ef25_row6_col1 {\n",
       "  text-align: left;\n",
       "  font-size: 12px;\n",
       "  vertical-align: middle;\n",
       "  width: 15%;\n",
       "  max-width: 200px;\n",
       "  min-width: 100px;\n",
       "  word-break: break-word;\n",
       "}\n",
       "#T_9ef25_row0_col2, #T_9ef25_row1_col2, #T_9ef25_row2_col2, #T_9ef25_row3_col2, #T_9ef25_row4_col2, #T_9ef25_row5_col2, #T_9ef25_row6_col2 {\n",
       "  text-align: left;\n",
       "  font-size: 12px;\n",
       "  vertical-align: middle;\n",
       "  width: 30%;\n",
       "  min-width: 100px;\n",
       "}\n",
       "#T_9ef25_row0_col3, #T_9ef25_row1_col3, #T_9ef25_row2_col3, #T_9ef25_row3_col3, #T_9ef25_row4_col3, #T_9ef25_row5_col3, #T_9ef25_row6_col3 {\n",
       "  text-align: left;\n",
       "  font-size: 12px;\n",
       "  vertical-align: middle;\n",
       "  width: 25%;\n",
       "  min-width: 100px;\n",
       "}\n",
       "#T_9ef25_row0_col4, #T_9ef25_row1_col4, #T_9ef25_row2_col4, #T_9ef25_row3_col4, #T_9ef25_row4_col4, #T_9ef25_row5_col4, #T_9ef25_row6_col4 {\n",
       "  text-align: left;\n",
       "  font-size: 12px;\n",
       "  vertical-align: middle;\n",
       "  width: 20%;\n",
       "  min-width: 150px;\n",
       "}\n",
       "#T_9ef25_row0_col5, #T_9ef25_row1_col5, #T_9ef25_row2_col5, #T_9ef25_row3_col5, #T_9ef25_row4_col5, #T_9ef25_row5_col5, #T_9ef25_row6_col5 {\n",
       "  text-align: left;\n",
       "  font-size: 12px;\n",
       "  vertical-align: middle;\n",
       "  width: 10%;\n",
       "}\n",
       "</style>\n",
       "<table id=\"T_9ef25\">\n",
       "  <caption><strong>Data Frame Summary</strong><br>delay_analysis_df<br>Dimensions: 18,880 x 7<br>Duplicates: 0</caption>\n",
       "  <thead>\n",
       "    <tr>\n",
       "      <th id=\"T_9ef25_level0_col0\" class=\"col_heading level0 col0\" >No</th>\n",
       "      <th id=\"T_9ef25_level0_col1\" class=\"col_heading level0 col1\" >Variable</th>\n",
       "      <th id=\"T_9ef25_level0_col2\" class=\"col_heading level0 col2\" >Stats / Values</th>\n",
       "      <th id=\"T_9ef25_level0_col3\" class=\"col_heading level0 col3\" >Freqs / (% of Valid)</th>\n",
       "      <th id=\"T_9ef25_level0_col4\" class=\"col_heading level0 col4\" >Graph</th>\n",
       "      <th id=\"T_9ef25_level0_col5\" class=\"col_heading level0 col5\" >Missing</th>\n",
       "    </tr>\n",
       "  </thead>\n",
       "  <tbody>\n",
       "    <tr>\n",
       "      <td id=\"T_9ef25_row0_col0\" class=\"data row0 col0\" >1</td>\n",
       "      <td id=\"T_9ef25_row0_col1\" class=\"data row0 col1\" ><strong>rental_id</strong><br>[int64]</td>\n",
       "      <td id=\"T_9ef25_row0_col2\" class=\"data row0 col2\" >Mean (sd) : 549702.9 (13920.9)<br>min < med < max:<br>504871.0 < 550383.5 < 576401.0<br>IQR (CV) : 19889.8 (39.5)</td>\n",
       "      <td id=\"T_9ef25_row0_col3\" class=\"data row0 col3\" >18,880 distinct values</td>\n",
       "      <td id=\"T_9ef25_row0_col4\" class=\"data row0 col4\" ><img src = \"data:image/png;base64, iVBORw0KGgoAAAANSUhEUgAAAKoAAABGCAYAAABc8A97AAAAOnRFWHRTb2Z0d2FyZQBNYXRwbG90bGliIHZlcnNpb24zLjEwLjMsIGh0dHBzOi8vbWF0cGxvdGxpYi5vcmcvZiW1igAAAAlwSFlzAAAPYQAAD2EBqD+naQAAAr5JREFUeJzt3c9OGlEYhvH3FMFB6UwIBnfcQJMuXLLpHfRiu+1OEr0B78ANMSE4BCoBka7a2MYinD91vvH57Q+cxZODZybxc9vtVkDVfXjrDQD7OHrrDdSRc64tqeW5fLXdbh9i7qcOCDUy51y71+t9zfO867P+/v5+7pz7LmnpuYVahk6o8bXyPO8Oh8OHoigOim08Hn+8vr7+MhgMzhqNhleos9ls6pz7VrdYCTWRoiiW/X7/xyFrptNpO8uyk4uLi+X5+fn00O8syzIbjUb9yWRy5pybHbpeFT6NCbWCTk9PD45ckhaLRXO9Xn8eDAYNnxO5yqcxodbIarU68j2Ry7LMrq6uupPJpCWJUJGe74ksqR19M5HwHBUmcKLit81m05SUO+d8PyLZZYxQISn8IialvYwRKiSFXcSk9JcxQsUfAi5iUsLLGKH+Q8D7+vzp6akZez/vHaG+IOR9/Xq9zjabzaflcnkpyfdkwl8I9WXe7+tvb2+7Nzc3J4+Pj41Um3uPCHUH3/f1qfbznvHAHyYQKkwgVJhAqDCBUGECocIEQoUJhAoTCBUmECpMIFSYQKgwgVBhAqHCBEKFCYQKEwgVJhAqTCBUmECoMIFQYQKhwgRChQmEChMIFSYQKkwgVJhAqDCBUGECocIE/u0kogmcqrJzogqhIorU4y0JFVGkHm9JqIgq1XhLLlMwobYnasD4HYkRPJVTy1BDxu9IjOCpolqGqoDxOxIjeKqorqFK8hu/IzGCp4q4TMEEQoUJlf7pZ3AufqlsqAzOxXOVDVUMzsUzSUON8dC9KIopg3ORLFQeuiOmV0MNudB0Op3+cDic8dAdoXaGGuNCc3x8fMlDd4R67UTlQoNK2OtvVJ9XkZyIiIk3UzBhrxO1LMvs0A+ez+eZJC0Wi+zu7u7kf663+t1W9x26fp++fgIes5gaX7WJ8QAAAABJRU5ErkJggg==\"></img></td>\n",
       "      <td id=\"T_9ef25_row0_col5\" class=\"data row0 col5\" >0<br>(0.0%)</td>\n",
       "    </tr>\n",
       "    <tr>\n",
       "      <td id=\"T_9ef25_row1_col0\" class=\"data row1 col0\" >2</td>\n",
       "      <td id=\"T_9ef25_row1_col1\" class=\"data row1 col1\" ><strong>car_id</strong><br>[int64]</td>\n",
       "      <td id=\"T_9ef25_row1_col2\" class=\"data row1 col2\" >Mean (sd) : 350551.3 (57880.0)<br>min < med < max:<br>159250.0 < 369224.5 < 417675.0<br>IQR (CV) : 76784.0 (6.1)</td>\n",
       "      <td id=\"T_9ef25_row1_col3\" class=\"data row1 col3\" >7,689 distinct values</td>\n",
       "      <td id=\"T_9ef25_row1_col4\" class=\"data row1 col4\" ><img src = \"data:image/png;base64, iVBORw0KGgoAAAANSUhEUgAAAKoAAABGCAYAAABc8A97AAAAOnRFWHRTb2Z0d2FyZQBNYXRwbG90bGliIHZlcnNpb24zLjEwLjMsIGh0dHBzOi8vbWF0cGxvdGxpYi5vcmcvZiW1igAAAAlwSFlzAAAPYQAAD2EBqD+naQAAAldJREFUeJzt3Mtu2kAYhuF/ekAmlWxxEDeRNRsuIMtebC+hCxZdcwfskBAygsQqB2eVqpUCgRm7nm/0Pls0wYtXVuz5B1fXtQGx+9T1BQC3+NL1BSAdzrm+mfU8l/+u6/rl0oeEikY45/qj0eh7nucDn/Xb7XbjnPtxKVZCRVN6eZ4PZrPZS1EU1T0Ly7LM5vP5YL1e98yMUNG+oiiqyWTy7LG0f+1DHqYggVAhgVAhgVAhgVAhgVAhgVAhgVAhgRf++CNwrz4/n89fm7yevxEqzCx8r/5wOGSn0+mxqqqfZuazM3UVoeKN9169mdlyuRwsFouH4/H4uY2LI1T8w3evfrPZXN2rD8XDFCQQKiQQKiQQKiQQKiQQKiQQKiQQKiQQKiQQKiQQKiQQKiQQKiQQKiQQKiQQKiQwOJ2YgHNPrZ55CkWoCQk599T2madQhJoW73NPbZ95CkWoCfI599T2madQPExBAqFCAqFCAqFCAqFCAqFCAqFCAqFCAqFCAjtTkYn5x3S7RKgtCIgtGw6HT0VRfPP53tgHS0IQasNCJ5jM7HE6nf4aj8fbe9fHPlgSglCbFzzBlGXZIcYf0+0SobYkxQmmLvHUDwmECgmECgmECgmECgmECgm8nrog1fPxqgj1HSmfj1dFqO9L9ny8KkK9gt2leCQbKuNyaYk6VMbl8KbVUAPvat6xMS6Xng9D7fKuZp6xMS6XnquhxjAE7BMboaXnozsqQ8CIwk3/o/KaBl27KdSyLLN7//But8vMzPb7fbZarR7+53rV71a97tD1t/T1Cm/iUpsG9VAEAAAAAElFTkSuQmCC\"></img></td>\n",
       "      <td id=\"T_9ef25_row1_col5\" class=\"data row1 col5\" >0<br>(0.0%)</td>\n",
       "    </tr>\n",
       "    <tr>\n",
       "      <td id=\"T_9ef25_row2_col0\" class=\"data row2 col0\" >3</td>\n",
       "      <td id=\"T_9ef25_row2_col1\" class=\"data row2 col1\" ><strong>checkin_type</strong><br>[object]</td>\n",
       "      <td id=\"T_9ef25_row2_col2\" class=\"data row2 col2\" >1. mobile<br>2. connect</td>\n",
       "      <td id=\"T_9ef25_row2_col3\" class=\"data row2 col3\" >15,018 (79.5%)<br>3,862 (20.5%)</td>\n",
       "      <td id=\"T_9ef25_row2_col4\" class=\"data row2 col4\" ><img src = \"data:image/png;base64, iVBORw0KGgoAAAANSUhEUgAAAJsAAAAuCAYAAAA/ZmtKAAAAOnRFWHRTb2Z0d2FyZQBNYXRwbG90bGliIHZlcnNpb24zLjEwLjMsIGh0dHBzOi8vbWF0cGxvdGxpYi5vcmcvZiW1igAAAAlwSFlzAAAPYQAAD2EBqD+naQAAATJJREFUeJzt28GJwzAYROHRYsLmImEMLsZFbLFbhLoxxjokIRftYWvI/AK/rwEJ8hJw8KTeuwCHJOku6RZ9EVi8e+/PqMOnZVl+cs5z1AXg01o7Ukq/UcFNOed527ZnKeUVcQF4nOf5XWud932/SYqJTZJKKa91XR8RF4DVPfLwr8jDcS3EBhtigw2xwYbYYENssCE22BAbbIgNNsQGG2KDDbHBhthgQ2ywITbYTNL/i3XRF8FnjfAZT621o9Y6K/jFOnxea+2Q9I46n8HLtYQOXhJTPriM8MsW+m2DT/iUL3peBp/QKd8I8zL4jDDl4yn4IvhTFzbEBhtigw2xwYbYYENssCE22BAbbIgNNsQGG2KDDbHBhthgQ2ywITbYhE75RpiXwSd8yhc9L4MPgxfY/AEKW2rfrKycQQAAAABJRU5ErkJggg==\"></img></td>\n",
       "      <td id=\"T_9ef25_row2_col5\" class=\"data row2 col5\" >0<br>(0.0%)</td>\n",
       "    </tr>\n",
       "    <tr>\n",
       "      <td id=\"T_9ef25_row3_col0\" class=\"data row3 col0\" >4</td>\n",
       "      <td id=\"T_9ef25_row3_col1\" class=\"data row3 col1\" ><strong>state</strong><br>[object]</td>\n",
       "      <td id=\"T_9ef25_row3_col2\" class=\"data row3 col2\" >1. ended<br>2. canceled</td>\n",
       "      <td id=\"T_9ef25_row3_col3\" class=\"data row3 col3\" >15,616 (82.7%)<br>3,264 (17.3%)</td>\n",
       "      <td id=\"T_9ef25_row3_col4\" class=\"data row3 col4\" ><img src = \"data:image/png;base64, iVBORw0KGgoAAAANSUhEUgAAAJsAAAAuCAYAAAA/ZmtKAAAAOnRFWHRTb2Z0d2FyZQBNYXRwbG90bGliIHZlcnNpb24zLjEwLjMsIGh0dHBzOi8vbWF0cGxvdGxpYi5vcmcvZiW1igAAAAlwSFlzAAAPYQAAD2EBqD+naQAAASpJREFUeJzt28Fpw0AUBuG3QZj4sosQqBgVkWJTxHYjhPYQG182h9Sg8ULma+AZPDbY6E+995AIKSLuEXF79wvR27x67w/i0LQsy1fOeSaOaTyttSOl9E0EN+Wc523bHqWU59XHNJbzPD9rrfO+77eIuD62iIhSynNd15+rj2lId+rQB3VIMjZhjE0YYxPG2IQxNmGMTRhjE8bYhDE2YYxNGGMTxtiEMTZhjE2YKeLvIbp3vxDx6Pd9aq0dtdY5wIfoNI7W2hERL+KWgxdhg5fklE8U+psN+xRpPOiUj5yNaTzYlI+ejWk89JTPX7z/mH/qCmNswhibMMYmjLEJY2zCGJswxiaMsQljbMIYmzDGJoyxCWNswhibMNiUz7mg0CkfORvTeBy8CPMLCltq31RnXuMAAAAASUVORK5CYII=\"></img></td>\n",
       "      <td id=\"T_9ef25_row3_col5\" class=\"data row3 col5\" >0<br>(0.0%)</td>\n",
       "    </tr>\n",
       "    <tr>\n",
       "      <td id=\"T_9ef25_row4_col0\" class=\"data row4 col0\" >5</td>\n",
       "      <td id=\"T_9ef25_row4_col1\" class=\"data row4 col1\" ><strong>delay_at_checkout_in_minutes</strong><br>[float64]</td>\n",
       "      <td id=\"T_9ef25_row4_col2\" class=\"data row4 col2\" >Mean (sd) : 10.2 (74.2)<br>min < med < max:<br>-190.0 < 8.0 < 221.0<br>IQR (CV) : 78.0 (0.1)</td>\n",
       "      <td id=\"T_9ef25_row4_col3\" class=\"data row4 col3\" >412 distinct values</td>\n",
       "      <td id=\"T_9ef25_row4_col4\" class=\"data row4 col4\" ><img src = \"data:image/png;base64, iVBORw0KGgoAAAANSUhEUgAAAKoAAABGCAYAAABc8A97AAAAOnRFWHRTb2Z0d2FyZQBNYXRwbG90bGliIHZlcnNpb24zLjEwLjMsIGh0dHBzOi8vbWF0cGxvdGxpYi5vcmcvZiW1igAAAAlwSFlzAAAPYQAAD2EBqD+naQAAApZJREFUeJzt3UGOokAUgOFXY2tQE4hxojsvMMksXHqIOewcYUw8gTdwZ0IMRqaJiMwFbBupYrpe8X/76mbxhwjUA1PXtQC++/bVBwA08fbVB+ArY8xYREYtl1/run53eTx9R6gPGGPG8/n8VxzHszbrz+fzyRjzm1jdIdTHRnEczzabzXuSJMUrC7Msi3a73SxN05GIEKojhPpEkiTFYrH422Lp2PnB9BwXU1CBUKECoUIFQoUKhAoVCBUqECpUIFSoQKhQgVChAqFCBUKFCoQKFQgVKhAqVCBUqECoUIFQoQKjKB2oqmooIrExps1yJlgfIFTH8jwflmX5c7VaDQaDwUuDgSJMsH6EUB27Xq9vURRN1ut1sVwuT6+sZYL1Y4Takel0ygSrQ1xMQQVChQqEChUIFSoQKlQgVKhAqFCBUKECoUIFQoUKhAoVCBUqECpUCHb3lOXnd+L7/T50eTywE2Sotp/fKcsyqqrqR1EUf0SkzVY9OBZkqGLx+R0RkcPhMNvv95Pb7Tbo4uDwulBDFZH2n985nU5sXvYMF1NQIegzqkaWE6wigU6xEqpHbCdYRcKdYiVUj9hMsIqEPcVKqB6ymGAVCXSKlYspqECoUIFQoQKhQgWvL6YsNpawqSQw3oZqs7GETSXh8TZUsdhY0udNJaG+m9XnUEWk3caSvm4qCfndrN6HiuZCfjcroQYoxHezdhoq4yBwpbNQGQeBS12eURkHUcbnvbCd/0ZlHEQH3/fCfhoqT4f6wcVe2O12u0jT9Lsx5tzmEJ4F/jRUng71T9s7Bl3fw/3sjMrTITTS9T3cRr9ReTqEprq6h8s2P6jQ6IyaZVn06h++XC6RiEie59HxeJz8z/Va/7fW47Zd36Svf1FIubjFeiOZAAAAAElFTkSuQmCC\"></img></td>\n",
       "      <td id=\"T_9ef25_row4_col5\" class=\"data row4 col5\" >4,964<br>(26.3%)</td>\n",
       "    </tr>\n",
       "    <tr>\n",
       "      <td id=\"T_9ef25_row5_col0\" class=\"data row5 col0\" >6</td>\n",
       "      <td id=\"T_9ef25_row5_col1\" class=\"data row5 col1\" ><strong>previous_ended_rental_id</strong><br>[float64]</td>\n",
       "      <td id=\"T_9ef25_row5_col2\" class=\"data row5 col2\" >Mean (sd) : 550101.0 (13222.4)<br>min < med < max:<br>505628.0 < 550633.0 < 575053.0<br>IQR (CV) : 19892.8 (41.6)</td>\n",
       "      <td id=\"T_9ef25_row5_col3\" class=\"data row5 col3\" >1,593 distinct values</td>\n",
       "      <td id=\"T_9ef25_row5_col4\" class=\"data row5 col4\" ><img src = \"data:image/png;base64, iVBORw0KGgoAAAANSUhEUgAAAKoAAABGCAYAAABc8A97AAAAOnRFWHRTb2Z0d2FyZQBNYXRwbG90bGliIHZlcnNpb24zLjEwLjMsIGh0dHBzOi8vbWF0cGxvdGxpYi5vcmcvZiW1igAAAAlwSFlzAAAPYQAAD2EBqD+naQAAAqxJREFUeJzt3T2O2kAYgOFvwgLmR7b4EXRcYKUUSDQ+QMocNkfYgmJrbkCHhJARziIMOE0SLQrB2GNjf+h9+mFcvDaMkWZMHMcCVN2Xsi8AuMdL2ReAS8aYlog0LD7iEMfxR17XUxWEWiHGmNZgMPjuum4v62dst9uNMeZHllirfJMQarU0XNft+b7/4XnePu3gIAic+XzeW6/XDRFJFUzZN0kSQq0gz/P2o9HoZ8bhrYzjSrtJ7kGouFDSTZKIVT9UIFSowFd/ASxWz+75fK7bzH06neoi4hpjHj53kQg1Zzar5yiKnNPp9Lrf799EJPXvxDAM61EUfZ1MJrVarZZqQWQ7d9EINX+ZV8/L5bK3WCzax+OxlmXiw+Hw4jhOezqd7sfj8eaRcxeNUAuSZfW82WxyWTV3Op3S5i4KiymoQKhQgVChAqFCBUKFCqz6/6PMl/b4F6FeUeZLe1xHqNeV9tIe1xHqDWW+tMclFlNQgVChAqFCBUKFCoQKFQgVKhAqVCBUqECoUIFQoQKhQgVChQqEChUIFSoQKlQgVKhAqFCBUKECoUIFQoUKhAoVCBUqECpUIFSoQKhQgVChAqFCBUKFCmyShtxYHMYmknCEOqEiFzaHsYkkH6FOqMiFzWFs9xyhTqjIVZbD2H67ua/s04ZqsQe/CPvwV85ThmqzB78I+/BX0VOGKhZ78IuwD38VPWuoIpJtD34R9uGvIl74QwVChQqEChUIFSpUejHFeaT4o7Khch4pPis0VNt/h7rd7sj3/S3nkSIxVIvYnH6//83zvE6GsX+fis1m843zSHEzVNuvXxF5nc1m78PhcJt2PE9FfJb0RLU+DtxxnIh/h2Drrt+oHAeOst0VahAETtoP3u12johIGIbOarVqP3K81rm1Xrft+Hv6+gUwiYj5V+Ej1gAAAABJRU5ErkJggg==\"></img></td>\n",
       "      <td id=\"T_9ef25_row5_col5\" class=\"data row5 col5\" >17,238<br>(91.3%)</td>\n",
       "    </tr>\n",
       "    <tr>\n",
       "      <td id=\"T_9ef25_row6_col0\" class=\"data row6 col0\" >7</td>\n",
       "      <td id=\"T_9ef25_row6_col1\" class=\"data row6 col1\" ><strong>time_delta_with_previous_rental_in_minutes</strong><br>[float64]</td>\n",
       "      <td id=\"T_9ef25_row6_col2\" class=\"data row6 col2\" >Mean (sd) : 280.0 (253.9)<br>min < med < max:<br>0.0 < 180.0 < 720.0<br>IQR (CV) : 480.0 (1.1)</td>\n",
       "      <td id=\"T_9ef25_row6_col3\" class=\"data row6 col3\" >25 distinct values</td>\n",
       "      <td id=\"T_9ef25_row6_col4\" class=\"data row6 col4\" ><img src = \"data:image/png;base64, iVBORw0KGgoAAAANSUhEUgAAAKoAAABGCAYAAABc8A97AAAAOnRFWHRTb2Z0d2FyZQBNYXRwbG90bGliIHZlcnNpb24zLjEwLjMsIGh0dHBzOi8vbWF0cGxvdGxpYi5vcmcvZiW1igAAAAlwSFlzAAAPYQAAD2EBqD+naQAAAtFJREFUeJzt3TFv2kAYgOHvICCTpLYQbbJ56VipA2OW/oP+2K7dOsAfYOjSiQUhIccRbhDOmS5NlkZg33GFz3mfOWcY3oQ7zs6Z3W4nwLnrnPoNAHVcHPoBY8xARPqO19/udrtHx7HAi72hGmMGo9HoaxzHQ5eLPzw8ZMaYb8QKX4f+ovbjOB7e3d09JkmyaXLhPM+jyWQyXK1WfREhVHg5+NEvIpIkyebm5ua3w/UHDmOAf7CYggqEChUIFSoQKlQgVKhAqFCBUKECoUIFQoUKhAoVCBUqECpUIFSoQKhQgVChAqFCBUKFCoQKFQgVKhAqVCBUqECoUIFQoQKhQgVChQqEChUIFSoQKlQgVKhAqFCBUKECoUIFQoUKtf7jNFBHyINJCBVHEfpgEkLFsQQ9mIRQcVShDiZhMQUVCBUqBP3ot9b2RCQ2xrhegiMqISIBQy2KoleW5ec0TbvdbrfR5PrZ/f392hjzXURcxhN5iwQLdbvdXkRRdDkejze3t7dZ0/GLxeLddDr9kqbpe5fQOYe1XYKv+q+urpxWgVmWDVxD5xzW9jn7r6dcQxfOYW0VVv1QgVChAqFCBUKFCoQKFc5+1Y9mPO8J7YhI5Tg2rqqq5zj2IEJtEZ97Qq21vaIoPl5fX//qdDpl0/FlWUbW2k+bzeaHiLh8nbhXa0N9o/cZON8TOp/Ph7PZ7MN4PP7pspP4d/zl09NTt+nYOloZ6jHuM/DZgg35SEYdLveEZlk2EPHbSWw6polWhup7n4HPFmzoRzLeqlaG+sxj+1XEfQs26CMZb1WrQ/XhMceNq6rqJUmSufySWGtjx9d9eW2XgeeOUF/hM8f1Wf36zq1Dr7xPiVBf4TPH9Vn9+s6tQ6+8T4lQ93CZ4x5j9XuuK+9TYgsVKhAqVCBUqECoUKHWYirP86jphdfrdSQiUhRFtFwuL//neK2vrfV9+46v09cfXtyj5bRHT7wAAAAASUVORK5CYII=\"></img></td>\n",
       "      <td id=\"T_9ef25_row6_col5\" class=\"data row6 col5\" >17,238<br>(91.3%)</td>\n",
       "    </tr>\n",
       "  </tbody>\n",
       "</table>\n"
      ],
      "text/plain": [
       "<pandas.io.formats.style.Styler at 0x7f98564f2010>"
      ]
     },
     "execution_count": 8,
     "metadata": {},
     "output_type": "execute_result"
    }
   ],
   "source": [
    "delay_analysis_df = delay_analysis_raw_df[outliers_mask].copy()\n",
    "\n",
    "dfSummary(delay_analysis_df)"
   ]
  },
  {
   "cell_type": "markdown",
   "id": "349778a3",
   "metadata": {},
   "source": [
    "### Typage des colonnes"
   ]
  },
  {
   "cell_type": "code",
   "execution_count": 9,
   "id": "dfbbc4ae",
   "metadata": {},
   "outputs": [
    {
     "data": {
      "text/plain": [
       "rental_id                                       int64\n",
       "car_id                                          int64\n",
       "checkin_type                                   object\n",
       "state                                          object\n",
       "delay_at_checkout_in_minutes                  float64\n",
       "previous_ended_rental_id                      float64\n",
       "time_delta_with_previous_rental_in_minutes    float64\n",
       "dtype: object"
      ]
     },
     "execution_count": 9,
     "metadata": {},
     "output_type": "execute_result"
    }
   ],
   "source": [
    "delay_analysis_df.dtypes"
   ]
  },
  {
   "cell_type": "code",
   "execution_count": 10,
   "id": "5b080418",
   "metadata": {},
   "outputs": [],
   "source": [
    "# Enforce integers\n",
    "delay_analysis_df['rental_id'] = delay_analysis_df['rental_id'].astype(pd.Int64Dtype())\n",
    "delay_analysis_df['previous_ended_rental_id'] = delay_analysis_df['previous_ended_rental_id'].astype(pd.Int64Dtype())\n"
   ]
  },
  {
   "cell_type": "code",
   "execution_count": 11,
   "id": "b939c66d",
   "metadata": {},
   "outputs": [
    {
     "data": {
      "text/plain": [
       "rental_id                                       Int64\n",
       "car_id                                          int64\n",
       "checkin_type                                   object\n",
       "state                                          object\n",
       "delay_at_checkout_in_minutes                  float64\n",
       "previous_ended_rental_id                        Int64\n",
       "time_delta_with_previous_rental_in_minutes    float64\n",
       "dtype: object"
      ]
     },
     "execution_count": 11,
     "metadata": {},
     "output_type": "execute_result"
    }
   ],
   "source": [
    "delay_analysis_df.dtypes"
   ]
  },
  {
   "cell_type": "markdown",
   "id": "9cb100fe",
   "metadata": {},
   "source": [
    "Le dataset `delay_analysis_df` ne contient plus que les données les plus pertinante au regard du delais de checkout. En effet, c'est ce temps qui impactera la possibilité d'enchainer avec succés des locations. Si le checkout est réalisé plus en retard que le début planifié de la prochaine location, c'est là qu'un conflit peut survenir."
   ]
  },
  {
   "cell_type": "markdown",
   "id": "e90dd882",
   "metadata": {},
   "source": [
    "## Un peu de visualisation"
   ]
  },
  {
   "cell_type": "markdown",
   "id": "fe0d5662",
   "metadata": {},
   "source": [
    "### Les modes de reservation"
   ]
  },
  {
   "cell_type": "code",
   "execution_count": 12,
   "id": "b2e65e46",
   "metadata": {},
   "outputs": [
    {
     "data": {
      "text/plain": [
       "checkin_type\n",
       "mobile     15018\n",
       "connect     3862\n",
       "Name: count, dtype: int64"
      ]
     },
     "execution_count": 12,
     "metadata": {},
     "output_type": "execute_result"
    }
   ],
   "source": [
    "checkin_type_count = delay_analysis_df[\"checkin_type\"].value_counts()\n",
    "\n",
    "# Check we have only the 2 expected values\n",
    "checkin_type_count"
   ]
  },
  {
   "cell_type": "code",
   "execution_count": 13,
   "id": "8881d322",
   "metadata": {},
   "outputs": [
    {
     "data": {
      "image/png": "[encoded data removed]",
      "text/plain": [
       "<Figure size 640x480 with 1 Axes>"
      ]
     },
     "metadata": {},
     "output_type": "display_data"
    }
   ],
   "source": [
    "# Data to Plot\n",
    "labels = \"connect\", \"mobile\"\n",
    "sizes = [checkin_type_count[\"connect\"], checkin_type_count[\"mobile\"]]\n",
    "explode = (0.05, 0.05)\n",
    "\n",
    "# Plot\n",
    "plt.pie(sizes, explode = explode, labels = labels, autopct = '%1.1f%%', shadow = True)\n",
    "plt.axis('equal')\n",
    "plt.title(\"Type of check-in per rentals\")\n",
    "plt.show()"
   ]
  },
  {
   "cell_type": "markdown",
   "id": "1d1407b4",
   "metadata": {},
   "source": [
    "**Mobile** seems to be the preferred way."
   ]
  },
  {
   "cell_type": "markdown",
   "id": "e847d29e",
   "metadata": {},
   "source": [
    "### Les annulations"
   ]
  },
  {
   "cell_type": "code",
   "execution_count": 14,
   "id": "253aec34",
   "metadata": {},
   "outputs": [
    {
     "name": "stdout",
     "output_type": "stream",
     "text": [
      "state\n",
      "ended       15616\n",
      "canceled     3264\n",
      "Name: count, dtype: int64\n",
      "========================================\n",
      "All rentals are ended or cancled:  True\n"
     ]
    }
   ],
   "source": [
    "\n",
    "# Check we have only the 2 expected values\n",
    "state_count = delay_analysis_df[\"state\"].value_counts()\n",
    "\n",
    "print(state_count)\n",
    "print(\"=\"*40)\n",
    "print(\"All rentals are ended or cancled: \",  len(delay_analysis_df) == np.sum(state_count))\n"
   ]
  },
  {
   "cell_type": "code",
   "execution_count": 15,
   "id": "be548a79",
   "metadata": {},
   "outputs": [
    {
     "data": {
      "image/png": "[encoded data removed]",
      "text/plain": [
       "<Figure size 640x480 with 1 Axes>"
      ]
     },
     "metadata": {},
     "output_type": "display_data"
    }
   ],
   "source": [
    "# Data to Plot\n",
    "labels = \"canceled\", \"ended\"\n",
    "sizes = [state_count[\"canceled\"], state_count[\"ended\"]]\n",
    "explode = (0.05, 0.05)\n",
    "\n",
    "# Plot\n",
    "plt.pie(sizes, explode = explode, labels = labels, autopct = '%1.1f%%', shadow = True)\n",
    "plt.axis('equal')\n",
    "plt.title(\"State of rentals\")\n",
    "plt.show()"
   ]
  },
  {
   "cell_type": "markdown",
   "id": "c766a91d",
   "metadata": {},
   "source": [
    "## Locations consécutives\n",
    "\n",
    "Les données de consécutivité n'existent que lorsque 2 locations se sont succédé en moins de 12h.\n",
    "\n",
    "![rental-timeline.png](./assets/rental-timeline.png)\n",
    "\n",
    "Quelques valeurs ne font pas partie du dataset initial mais sont facilement calculables (et utiles):\n",
    "- `previous_delay_at_checkout_in_minutes`: temps écoulé entre le checkout planifié et le checkout réel de la précédente location (le `delay_at_checkout_in_minutes` de `previous_ended_rental_id` s'il y lieu)\n",
    "- `time_delta_with_previous_checkout_in_minutes`: temps écoulé entre le précédent checkout réel et le check-in planifié (si < 0, retard pour le checkin!)\n",
    "\n",
    "Ces valeurs permettront une analyse plus fine des locations s'enchainant."
   ]
  },
  {
   "cell_type": "code",
   "execution_count": 16,
   "id": "5d3fd21f",
   "metadata": {},
   "outputs": [
    {
     "data": {
      "text/plain": [
       "True"
      ]
     },
     "execution_count": 16,
     "metadata": {},
     "output_type": "execute_result"
    }
   ],
   "source": [
    "# Let quickly check previous_ended_rental_id and time_delta_with_previous_rental_in_minutes are provided together\n",
    "previous_ended_rental_id_df = delay_analysis_df[delay_analysis_df[\"previous_ended_rental_id\"].isna()]\n",
    "time_delta_with_previous_rental_in_minutes_df = delay_analysis_df[delay_analysis_df[\"time_delta_with_previous_rental_in_minutes\"].isna()]\n",
    "\n",
    "previous_ended_rental_id_df.equals(time_delta_with_previous_rental_in_minutes_df)"
   ]
  },
  {
   "cell_type": "markdown",
   "id": "a82f3fd4",
   "metadata": {},
   "source": [
    "### Feature engineering\n",
    "\n",
    "Calcul/ajout de valeurs utiles à l'analyse:\n",
    "- rajout du delais au checkout en cas de succession de location\n",
    "- catégorisation des retards\n",
    "- temps écoulé entre le précédent checkout réel et le checkin prévu (si < 0, retard pour le checkin!)"
   ]
  },
  {
   "cell_type": "code",
   "execution_count": 17,
   "id": "8bb18160",
   "metadata": {},
   "outputs": [],
   "source": [
    "# Extend rentals with delay_at_checkout of previous rental when existing => previous_delay_at_checkout_in_minutes\n",
    "\n",
    "# delay_at_checkout_in_minutes = (rental end time requested by the driver - actual time the driver completed the checkout) => Negative values mean that the driver returned the car in advance\n",
    "\n",
    "# Cleanup in case or repeated run\n",
    "delay_analysis_df.drop(columns=\"previous_delay_at_checkout_in_minutes\", inplace=True, errors=\"ignore\")\n",
    "\n",
    "delay_analysis_df = delay_analysis_df.merge(\n",
    "    delay_analysis_df[[\"rental_id\", \"delay_at_checkout_in_minutes\"]].rename(columns={\n",
    "        \"rental_id\": \"previous_ended_rental_id\",\n",
    "        \"delay_at_checkout_in_minutes\": \"previous_delay_at_checkout_in_minutes\"\n",
    "    }),\n",
    "    on=\"previous_ended_rental_id\",\n",
    "    how=\"left\"\n",
    ")\n",
    "\n",
    "# Calcul du delta réel entre le checkin et le précédent checkout s'il y en a un\n",
    "#\n",
    "# time_delta_with_previous_rental_in_minutes = (rental planned start time - previous rental planned end time) => when lower than 12 hours, NULL if higher\n",
    "#\n",
    "delay_analysis_df[\"time_delta_with_previous_checkout_in_minutes\"] = delay_analysis_df[\"time_delta_with_previous_rental_in_minutes\"] - delay_analysis_df[\"previous_delay_at_checkout_in_minutes\"]"
   ]
  },
  {
   "cell_type": "code",
   "execution_count": 18,
   "id": "83988ca8",
   "metadata": {},
   "outputs": [],
   "source": [
    "# Categorizing checkout delay\n",
    "def map_delay_to_status(delay):\n",
    "    if pd.isna(delay):\n",
    "        return \"free\"\n",
    "    elif delay < 0:\n",
    "        return \"in-advance\"\n",
    "    elif delay == 0:\n",
    "        return \"on-time\"\n",
    "    else:\n",
    "        return \"delayed\"\n",
    "\n",
    "# Categorizing time_delta for checkin\n",
    "def map_time_delta_to_status(time_delta):\n",
    "    if time_delta < 0:\n",
    "        return \"checkin-delayed\"\n",
    "    else: # NA or >= 0\n",
    "        return \"checkin-ok\"\n",
    "\n",
    "# delay_at_checkout\n",
    "delay_analysis_df[\"delay_at_checkout_status\"] = delay_analysis_df[\"delay_at_checkout_in_minutes\"].map(map_delay_to_status)\n",
    "delay_analysis_df[\"previous_delay_at_checkout_status\"] = delay_analysis_df[\"previous_delay_at_checkout_in_minutes\"].map(map_delay_to_status)\n",
    "\n",
    "# time_delta\n",
    "delay_analysis_df[\"time_delta_with_previous_checkout_status\"] = delay_analysis_df[\"time_delta_with_previous_checkout_in_minutes\"].map(map_time_delta_to_status)"
   ]
  },
  {
   "cell_type": "code",
   "execution_count": 19,
   "id": "ad68a45b",
   "metadata": {},
   "outputs": [
    {
     "data": {
      "text/html": [
       "<div>\n",
       "<style scoped>\n",
       "    .dataframe tbody tr th:only-of-type {\n",
       "        vertical-align: middle;\n",
       "    }\n",
       "\n",
       "    .dataframe tbody tr th {\n",
       "        vertical-align: top;\n",
       "    }\n",
       "\n",
       "    .dataframe thead th {\n",
       "        text-align: right;\n",
       "    }\n",
       "</style>\n",
       "<table border=\"1\" class=\"dataframe\">\n",
       "  <thead>\n",
       "    <tr style=\"text-align: right;\">\n",
       "      <th></th>\n",
       "      <th>rental_id</th>\n",
       "      <th>car_id</th>\n",
       "      <th>checkin_type</th>\n",
       "      <th>state</th>\n",
       "      <th>delay_at_checkout_in_minutes</th>\n",
       "      <th>previous_ended_rental_id</th>\n",
       "      <th>time_delta_with_previous_rental_in_minutes</th>\n",
       "      <th>previous_delay_at_checkout_in_minutes</th>\n",
       "      <th>time_delta_with_previous_checkout_in_minutes</th>\n",
       "      <th>delay_at_checkout_status</th>\n",
       "      <th>previous_delay_at_checkout_status</th>\n",
       "      <th>time_delta_with_previous_checkout_status</th>\n",
       "    </tr>\n",
       "  </thead>\n",
       "  <tbody>\n",
       "    <tr>\n",
       "      <th>0</th>\n",
       "      <td>505000</td>\n",
       "      <td>363965</td>\n",
       "      <td>mobile</td>\n",
       "      <td>canceled</td>\n",
       "      <td>NaN</td>\n",
       "      <td>&lt;NA&gt;</td>\n",
       "      <td>NaN</td>\n",
       "      <td>NaN</td>\n",
       "      <td>NaN</td>\n",
       "      <td>free</td>\n",
       "      <td>free</td>\n",
       "      <td>checkin-ok</td>\n",
       "    </tr>\n",
       "    <tr>\n",
       "      <th>1</th>\n",
       "      <td>507750</td>\n",
       "      <td>269550</td>\n",
       "      <td>mobile</td>\n",
       "      <td>ended</td>\n",
       "      <td>-81.0</td>\n",
       "      <td>&lt;NA&gt;</td>\n",
       "      <td>NaN</td>\n",
       "      <td>NaN</td>\n",
       "      <td>NaN</td>\n",
       "      <td>in-advance</td>\n",
       "      <td>free</td>\n",
       "      <td>checkin-ok</td>\n",
       "    </tr>\n",
       "    <tr>\n",
       "      <th>2</th>\n",
       "      <td>508131</td>\n",
       "      <td>359049</td>\n",
       "      <td>connect</td>\n",
       "      <td>ended</td>\n",
       "      <td>70.0</td>\n",
       "      <td>&lt;NA&gt;</td>\n",
       "      <td>NaN</td>\n",
       "      <td>NaN</td>\n",
       "      <td>NaN</td>\n",
       "      <td>delayed</td>\n",
       "      <td>free</td>\n",
       "      <td>checkin-ok</td>\n",
       "    </tr>\n",
       "    <tr>\n",
       "      <th>3</th>\n",
       "      <td>508865</td>\n",
       "      <td>299063</td>\n",
       "      <td>connect</td>\n",
       "      <td>canceled</td>\n",
       "      <td>NaN</td>\n",
       "      <td>&lt;NA&gt;</td>\n",
       "      <td>NaN</td>\n",
       "      <td>NaN</td>\n",
       "      <td>NaN</td>\n",
       "      <td>free</td>\n",
       "      <td>free</td>\n",
       "      <td>checkin-ok</td>\n",
       "    </tr>\n",
       "    <tr>\n",
       "      <th>4</th>\n",
       "      <td>511440</td>\n",
       "      <td>313932</td>\n",
       "      <td>mobile</td>\n",
       "      <td>ended</td>\n",
       "      <td>NaN</td>\n",
       "      <td>&lt;NA&gt;</td>\n",
       "      <td>NaN</td>\n",
       "      <td>NaN</td>\n",
       "      <td>NaN</td>\n",
       "      <td>free</td>\n",
       "      <td>free</td>\n",
       "      <td>checkin-ok</td>\n",
       "    </tr>\n",
       "    <tr>\n",
       "      <th>...</th>\n",
       "      <td>...</td>\n",
       "      <td>...</td>\n",
       "      <td>...</td>\n",
       "      <td>...</td>\n",
       "      <td>...</td>\n",
       "      <td>...</td>\n",
       "      <td>...</td>\n",
       "      <td>...</td>\n",
       "      <td>...</td>\n",
       "      <td>...</td>\n",
       "      <td>...</td>\n",
       "      <td>...</td>\n",
       "    </tr>\n",
       "    <tr>\n",
       "      <th>18875</th>\n",
       "      <td>573322</td>\n",
       "      <td>376491</td>\n",
       "      <td>connect</td>\n",
       "      <td>ended</td>\n",
       "      <td>-66.0</td>\n",
       "      <td>&lt;NA&gt;</td>\n",
       "      <td>NaN</td>\n",
       "      <td>NaN</td>\n",
       "      <td>NaN</td>\n",
       "      <td>in-advance</td>\n",
       "      <td>free</td>\n",
       "      <td>checkin-ok</td>\n",
       "    </tr>\n",
       "    <tr>\n",
       "      <th>18876</th>\n",
       "      <td>573446</td>\n",
       "      <td>380069</td>\n",
       "      <td>mobile</td>\n",
       "      <td>ended</td>\n",
       "      <td>NaN</td>\n",
       "      <td>573429</td>\n",
       "      <td>300.0</td>\n",
       "      <td>NaN</td>\n",
       "      <td>NaN</td>\n",
       "      <td>free</td>\n",
       "      <td>free</td>\n",
       "      <td>checkin-ok</td>\n",
       "    </tr>\n",
       "    <tr>\n",
       "      <th>18877</th>\n",
       "      <td>573791</td>\n",
       "      <td>364890</td>\n",
       "      <td>mobile</td>\n",
       "      <td>ended</td>\n",
       "      <td>144.0</td>\n",
       "      <td>&lt;NA&gt;</td>\n",
       "      <td>NaN</td>\n",
       "      <td>NaN</td>\n",
       "      <td>NaN</td>\n",
       "      <td>delayed</td>\n",
       "      <td>free</td>\n",
       "      <td>checkin-ok</td>\n",
       "    </tr>\n",
       "    <tr>\n",
       "      <th>18878</th>\n",
       "      <td>574852</td>\n",
       "      <td>362531</td>\n",
       "      <td>connect</td>\n",
       "      <td>ended</td>\n",
       "      <td>-76.0</td>\n",
       "      <td>&lt;NA&gt;</td>\n",
       "      <td>NaN</td>\n",
       "      <td>NaN</td>\n",
       "      <td>NaN</td>\n",
       "      <td>in-advance</td>\n",
       "      <td>free</td>\n",
       "      <td>checkin-ok</td>\n",
       "    </tr>\n",
       "    <tr>\n",
       "      <th>18879</th>\n",
       "      <td>575056</td>\n",
       "      <td>351549</td>\n",
       "      <td>connect</td>\n",
       "      <td>ended</td>\n",
       "      <td>35.0</td>\n",
       "      <td>&lt;NA&gt;</td>\n",
       "      <td>NaN</td>\n",
       "      <td>NaN</td>\n",
       "      <td>NaN</td>\n",
       "      <td>delayed</td>\n",
       "      <td>free</td>\n",
       "      <td>checkin-ok</td>\n",
       "    </tr>\n",
       "  </tbody>\n",
       "</table>\n",
       "<p>18880 rows × 12 columns</p>\n",
       "</div>"
      ],
      "text/plain": [
       "       rental_id  car_id checkin_type     state  delay_at_checkout_in_minutes  previous_ended_rental_id  time_delta_with_previous_rental_in_minutes  previous_delay_at_checkout_in_minutes  time_delta_with_previous_checkout_in_minutes delay_at_checkout_status previous_delay_at_checkout_status time_delta_with_previous_checkout_status\n",
       "0         505000  363965       mobile  canceled                           NaN                      <NA>                                         NaN                                    NaN                                           NaN                     free                              free                               checkin-ok\n",
       "1         507750  269550       mobile     ended                         -81.0                      <NA>                                         NaN                                    NaN                                           NaN               in-advance                              free                               checkin-ok\n",
       "2         508131  359049      connect     ended                          70.0                      <NA>                                         NaN                                    NaN                                           NaN                  delayed                              free                               checkin-ok\n",
       "3         508865  299063      connect  canceled                           NaN                      <NA>                                         NaN                                    NaN                                           NaN                     free                              free                               checkin-ok\n",
       "4         511440  313932       mobile     ended                           NaN                      <NA>                                         NaN                                    NaN                                           NaN                     free                              free                               checkin-ok\n",
       "...          ...     ...          ...       ...                           ...                       ...                                         ...                                    ...                                           ...                      ...                               ...                                      ...\n",
       "18875     573322  376491      connect     ended                         -66.0                      <NA>                                         NaN                                    NaN                                           NaN               in-advance                              free                               checkin-ok\n",
       "18876     573446  380069       mobile     ended                           NaN                    573429                                       300.0                                    NaN                                           NaN                     free                              free                               checkin-ok\n",
       "18877     573791  364890       mobile     ended                         144.0                      <NA>                                         NaN                                    NaN                                           NaN                  delayed                              free                               checkin-ok\n",
       "18878     574852  362531      connect     ended                         -76.0                      <NA>                                         NaN                                    NaN                                           NaN               in-advance                              free                               checkin-ok\n",
       "18879     575056  351549      connect     ended                          35.0                      <NA>                                         NaN                                    NaN                                           NaN                  delayed                              free                               checkin-ok\n",
       "\n",
       "[18880 rows x 12 columns]"
      ]
     },
     "execution_count": 19,
     "metadata": {},
     "output_type": "execute_result"
    }
   ],
   "source": [
    "delay_analysis_df"
   ]
  },
  {
   "cell_type": "markdown",
   "id": "3f49c961",
   "metadata": {},
   "source": [
    "### Reduction du dataset\n",
    "\n",
    "On restreint le dataset aux locations enchainées uniquement."
   ]
  },
  {
   "cell_type": "code",
   "execution_count": 20,
   "id": "8adfc1aa",
   "metadata": {},
   "outputs": [
    {
     "name": "stdout",
     "output_type": "stream",
     "text": [
      "Dans notre dataset filtré il y a 1642 locations en suivant une autre à moins de 12h:00 d'intervalle.\n"
     ]
    }
   ],
   "source": [
    "# Locations en chaine\n",
    "chained_rentals_df = delay_analysis_df[delay_analysis_df[\"previous_ended_rental_id\"].notna()]\n",
    "\n",
    "chained_rentals_count = len(chained_rentals_df)\n",
    "\n",
    "chained_rentals_delta_time_max = chained_rentals_df[\"time_delta_with_previous_rental_in_minutes\"].max()\n",
    "chained_rentals_delta_time_max_str = \"{:02.0f}h:{:02.0f}\".format(*divmod(chained_rentals_delta_time_max, 60))\n",
    "\n",
    "print(f\"Dans notre dataset filtré il y a {chained_rentals_count} locations en suivant une autre à moins de {chained_rentals_delta_time_max_str} d'intervalle.\")"
   ]
  },
  {
   "cell_type": "code",
   "execution_count": 21,
   "id": "cc59c465",
   "metadata": {},
   "outputs": [
    {
     "name": "stdout",
     "output_type": "stream",
     "text": [
      "Nombre de locations:  1642\n",
      "\n",
      "Distribution des locations en fonction de l'intervale planifié avec la précédente: \n"
     ]
    },
    {
     "data": {
      "text/plain": [
       "time_delta_with_previous_rental_in_minutes\n",
       "0.0      248\n",
       "60.0     164\n",
       "120.0    121\n",
       "720.0    113\n",
       "30.0     109\n",
       "180.0     76\n",
       "90.0      68\n",
       "600.0     67\n",
       "660.0     64\n",
       "240.0     60\n",
       "690.0     57\n",
       "150.0     57\n",
       "630.0     46\n",
       "210.0     43\n",
       "570.0     41\n",
       "480.0     38\n",
       "300.0     37\n",
       "270.0     36\n",
       "420.0     36\n",
       "360.0     36\n",
       "510.0     34\n",
       "540.0     33\n",
       "330.0     23\n",
       "450.0     22\n",
       "390.0     13\n",
       "Name: count, dtype: int64"
      ]
     },
     "metadata": {},
     "output_type": "display_data"
    },
    {
     "data": {
      "application/vnd.plotly.v1+json": {
       "config": {
        "plotlyServerURL": "https://plot.ly"
       },
       "data": [
        {
         "hovertemplate": "time_delta_with_previous_rental_in_minutes=%{x}<br>count=%{y}<extra></extra>",
         "legendgroup": "",
         "marker": {
          "color": "#636efa",
          "pattern": {
           "shape": ""
          }
         },
         "name": "",
         "orientation": "v",
         "showlegend": false,
         "textposition": "auto",
         "type": "bar",
         "x": {
          "bdata": "AAAAAAAAAAAAAAAAAABOQAAAAAAAAF5AAAAAAACAhkAAAAAAAAA+QAAAAAAAgGZAAAAAAACAVkAAAAAAAMCCQAAAAAAAoIRAAAAAAAAAbkAAAAAAAJCFQAAAAAAAwGJAAAAAAACwg0AAAAAAAEBqQAAAAAAA0IFAAAAAAAAAfkAAAAAAAMByQAAAAAAA4HBAAAAAAABAekAAAAAAAIB2QAAAAAAA4H9AAAAAAADggEAAAAAAAKB0QAAAAAAAIHxAAAAAAABgeEA=",
          "dtype": "f8"
         },
         "xaxis": "x",
         "y": {
          "bdata": "+ACkAHkAcQBtAEwARABDAEAAPAA5ADkALgArACkAJgAlACQAJAAkACIAIQAXABYADQA=",
          "dtype": "i2"
         },
         "yaxis": "y"
        }
       ],
       "layout": {
        "barmode": "relative",
        "legend": {
         "tracegroupgap": 0
        },
        "margin": {
         "t": 60
        },
        "template": {
         "data": {
          "bar": [
           {
            "error_x": {
             "color": "#2a3f5f"
            },
            "error_y": {
             "color": "#2a3f5f"
            },
            "marker": {
             "line": {
              "color": "#E5ECF6",
              "width": 0.5
             },
             "pattern": {
              "fillmode": "overlay",
              "size": 10,
              "solidity": 0.2
             }
            },
            "type": "bar"
           }
          ],
          "barpolar": [
           {
            "marker": {
             "line": {
              "color": "#E5ECF6",
              "width": 0.5
             },
             "pattern": {
              "fillmode": "overlay",
              "size": 10,
              "solidity": 0.2
             }
            },
            "type": "barpolar"
           }
          ],
          "carpet": [
           {
            "aaxis": {
             "endlinecolor": "#2a3f5f",
             "gridcolor": "white",
             "linecolor": "white",
             "minorgridcolor": "white",
             "startlinecolor": "#2a3f5f"
            },
            "baxis": {
             "endlinecolor": "#2a3f5f",
             "gridcolor": "white",
             "linecolor": "white",
             "minorgridcolor": "white",
             "startlinecolor": "#2a3f5f"
            },
            "type": "carpet"
           }
          ],
          "choropleth": [
           {
            "colorbar": {
             "outlinewidth": 0,
             "ticks": ""
            },
            "type": "choropleth"
           }
          ],
          "contour": [
           {
            "colorbar": {
             "outlinewidth": 0,
             "ticks": ""
            },
            "colorscale": [
             [
              0,
              "#0d0887"
             ],
             [
              0.1111111111111111,
              "#46039f"
             ],
             [
              0.2222222222222222,
              "#7201a8"
             ],
             [
              0.3333333333333333,
              "#9c179e"
             ],
             [
              0.4444444444444444,
              "#bd3786"
             ],
             [
              0.5555555555555556,
              "#d8576b"
             ],
             [
              0.6666666666666666,
              "#ed7953"
             ],
             [
              0.7777777777777778,
              "#fb9f3a"
             ],
             [
              0.8888888888888888,
              "#fdca26"
             ],
             [
              1,
              "#f0f921"
             ]
            ],
            "type": "contour"
           }
          ],
          "contourcarpet": [
           {
            "colorbar": {
             "outlinewidth": 0,
             "ticks": ""
            },
            "type": "contourcarpet"
           }
          ],
          "heatmap": [
           {
            "colorbar": {
             "outlinewidth": 0,
             "ticks": ""
            },
            "colorscale": [
             [
              0,
              "#0d0887"
             ],
             [
              0.1111111111111111,
              "#46039f"
             ],
             [
              0.2222222222222222,
              "#7201a8"
             ],
             [
              0.3333333333333333,
              "#9c179e"
             ],
             [
              0.4444444444444444,
              "#bd3786"
             ],
             [
              0.5555555555555556,
              "#d8576b"
             ],
             [
              0.6666666666666666,
              "#ed7953"
             ],
             [
              0.7777777777777778,
              "#fb9f3a"
             ],
             [
              0.8888888888888888,
              "#fdca26"
             ],
             [
              1,
              "#f0f921"
             ]
            ],
            "type": "heatmap"
           }
          ],
          "histogram": [
           {
            "marker": {
             "pattern": {
              "fillmode": "overlay",
              "size": 10,
              "solidity": 0.2
             }
            },
            "type": "histogram"
           }
          ],
          "histogram2d": [
           {
            "colorbar": {
             "outlinewidth": 0,
             "ticks": ""
            },
            "colorscale": [
             [
              0,
              "#0d0887"
             ],
             [
              0.1111111111111111,
              "#46039f"
             ],
             [
              0.2222222222222222,
              "#7201a8"
             ],
             [
              0.3333333333333333,
              "#9c179e"
             ],
             [
              0.4444444444444444,
              "#bd3786"
             ],
             [
              0.5555555555555556,
              "#d8576b"
             ],
             [
              0.6666666666666666,
              "#ed7953"
             ],
             [
              0.7777777777777778,
              "#fb9f3a"
             ],
             [
              0.8888888888888888,
              "#fdca26"
             ],
             [
              1,
              "#f0f921"
             ]
            ],
            "type": "histogram2d"
           }
          ],
          "histogram2dcontour": [
           {
            "colorbar": {
             "outlinewidth": 0,
             "ticks": ""
            },
            "colorscale": [
             [
              0,
              "#0d0887"
             ],
             [
              0.1111111111111111,
              "#46039f"
             ],
             [
              0.2222222222222222,
              "#7201a8"
             ],
             [
              0.3333333333333333,
              "#9c179e"
             ],
             [
              0.4444444444444444,
              "#bd3786"
             ],
             [
              0.5555555555555556,
              "#d8576b"
             ],
             [
              0.6666666666666666,
              "#ed7953"
             ],
             [
              0.7777777777777778,
              "#fb9f3a"
             ],
             [
              0.8888888888888888,
              "#fdca26"
             ],
             [
              1,
              "#f0f921"
             ]
            ],
            "type": "histogram2dcontour"
           }
          ],
          "mesh3d": [
           {
            "colorbar": {
             "outlinewidth": 0,
             "ticks": ""
            },
            "type": "mesh3d"
           }
          ],
          "parcoords": [
           {
            "line": {
             "colorbar": {
              "outlinewidth": 0,
              "ticks": ""
             }
            },
            "type": "parcoords"
           }
          ],
          "pie": [
           {
            "automargin": true,
            "type": "pie"
           }
          ],
          "scatter": [
           {
            "fillpattern": {
             "fillmode": "overlay",
             "size": 10,
             "solidity": 0.2
            },
            "type": "scatter"
           }
          ],
          "scatter3d": [
           {
            "line": {
             "colorbar": {
              "outlinewidth": 0,
              "ticks": ""
             }
            },
            "marker": {
             "colorbar": {
              "outlinewidth": 0,
              "ticks": ""
             }
            },
            "type": "scatter3d"
           }
          ],
          "scattercarpet": [
           {
            "marker": {
             "colorbar": {
              "outlinewidth": 0,
              "ticks": ""
             }
            },
            "type": "scattercarpet"
           }
          ],
          "scattergeo": [
           {
            "marker": {
             "colorbar": {
              "outlinewidth": 0,
              "ticks": ""
             }
            },
            "type": "scattergeo"
           }
          ],
          "scattergl": [
           {
            "marker": {
             "colorbar": {
              "outlinewidth": 0,
              "ticks": ""
             }
            },
            "type": "scattergl"
           }
          ],
          "scattermap": [
           {
            "marker": {
             "colorbar": {
              "outlinewidth": 0,
              "ticks": ""
             }
            },
            "type": "scattermap"
           }
          ],
          "scattermapbox": [
           {
            "marker": {
             "colorbar": {
              "outlinewidth": 0,
              "ticks": ""
             }
            },
            "type": "scattermapbox"
           }
          ],
          "scatterpolar": [
           {
            "marker": {
             "colorbar": {
              "outlinewidth": 0,
              "ticks": ""
             }
            },
            "type": "scatterpolar"
           }
          ],
          "scatterpolargl": [
           {
            "marker": {
             "colorbar": {
              "outlinewidth": 0,
              "ticks": ""
             }
            },
            "type": "scatterpolargl"
           }
          ],
          "scatterternary": [
           {
            "marker": {
             "colorbar": {
              "outlinewidth": 0,
              "ticks": ""
             }
            },
            "type": "scatterternary"
           }
          ],
          "surface": [
           {
            "colorbar": {
             "outlinewidth": 0,
             "ticks": ""
            },
            "colorscale": [
             [
              0,
              "#0d0887"
             ],
             [
              0.1111111111111111,
              "#46039f"
             ],
             [
              0.2222222222222222,
              "#7201a8"
             ],
             [
              0.3333333333333333,
              "#9c179e"
             ],
             [
              0.4444444444444444,
              "#bd3786"
             ],
             [
              0.5555555555555556,
              "#d8576b"
             ],
             [
              0.6666666666666666,
              "#ed7953"
             ],
             [
              0.7777777777777778,
              "#fb9f3a"
             ],
             [
              0.8888888888888888,
              "#fdca26"
             ],
             [
              1,
              "#f0f921"
             ]
            ],
            "type": "surface"
           }
          ],
          "table": [
           {
            "cells": {
             "fill": {
              "color": "#EBF0F8"
             },
             "line": {
              "color": "white"
             }
            },
            "header": {
             "fill": {
              "color": "#C8D4E3"
             },
             "line": {
              "color": "white"
             }
            },
            "type": "table"
           }
          ]
         },
         "layout": {
          "annotationdefaults": {
           "arrowcolor": "#2a3f5f",
           "arrowhead": 0,
           "arrowwidth": 1
          },
          "autotypenumbers": "strict",
          "coloraxis": {
           "colorbar": {
            "outlinewidth": 0,
            "ticks": ""
           }
          },
          "colorscale": {
           "diverging": [
            [
             0,
             "#8e0152"
            ],
            [
             0.1,
             "#c51b7d"
            ],
            [
             0.2,
             "#de77ae"
            ],
            [
             0.3,
             "#f1b6da"
            ],
            [
             0.4,
             "#fde0ef"
            ],
            [
             0.5,
             "#f7f7f7"
            ],
            [
             0.6,
             "#e6f5d0"
            ],
            [
             0.7,
             "#b8e186"
            ],
            [
             0.8,
             "#7fbc41"
            ],
            [
             0.9,
             "#4d9221"
            ],
            [
             1,
             "#276419"
            ]
           ],
           "sequential": [
            [
             0,
             "#0d0887"
            ],
            [
             0.1111111111111111,
             "#46039f"
            ],
            [
             0.2222222222222222,
             "#7201a8"
            ],
            [
             0.3333333333333333,
             "#9c179e"
            ],
            [
             0.4444444444444444,
             "#bd3786"
            ],
            [
             0.5555555555555556,
             "#d8576b"
            ],
            [
             0.6666666666666666,
             "#ed7953"
            ],
            [
             0.7777777777777778,
             "#fb9f3a"
            ],
            [
             0.8888888888888888,
             "#fdca26"
            ],
            [
             1,
             "#f0f921"
            ]
           ],
           "sequentialminus": [
            [
             0,
             "#0d0887"
            ],
            [
             0.1111111111111111,
             "#46039f"
            ],
            [
             0.2222222222222222,
             "#7201a8"
            ],
            [
             0.3333333333333333,
             "#9c179e"
            ],
            [
             0.4444444444444444,
             "#bd3786"
            ],
            [
             0.5555555555555556,
             "#d8576b"
            ],
            [
             0.6666666666666666,
             "#ed7953"
            ],
            [
             0.7777777777777778,
             "#fb9f3a"
            ],
            [
             0.8888888888888888,
             "#fdca26"
            ],
            [
             1,
             "#f0f921"
            ]
           ]
          },
          "colorway": [
           "#636efa",
           "#EF553B",
           "#00cc96",
           "#ab63fa",
           "#FFA15A",
           "#19d3f3",
           "#FF6692",
           "#B6E880",
           "#FF97FF",
           "#FECB52"
          ],
          "font": {
           "color": "#2a3f5f"
          },
          "geo": {
           "bgcolor": "white",
           "lakecolor": "white",
           "landcolor": "#E5ECF6",
           "showlakes": true,
           "showland": true,
           "subunitcolor": "white"
          },
          "hoverlabel": {
           "align": "left"
          },
          "hovermode": "closest",
          "mapbox": {
           "style": "light"
          },
          "paper_bgcolor": "white",
          "plot_bgcolor": "#E5ECF6",
          "polar": {
           "angularaxis": {
            "gridcolor": "white",
            "linecolor": "white",
            "ticks": ""
           },
           "bgcolor": "#E5ECF6",
           "radialaxis": {
            "gridcolor": "white",
            "linecolor": "white",
            "ticks": ""
           }
          },
          "scene": {
           "xaxis": {
            "backgroundcolor": "#E5ECF6",
            "gridcolor": "white",
            "gridwidth": 2,
            "linecolor": "white",
            "showbackground": true,
            "ticks": "",
            "zerolinecolor": "white"
           },
           "yaxis": {
            "backgroundcolor": "#E5ECF6",
            "gridcolor": "white",
            "gridwidth": 2,
            "linecolor": "white",
            "showbackground": true,
            "ticks": "",
            "zerolinecolor": "white"
           },
           "zaxis": {
            "backgroundcolor": "#E5ECF6",
            "gridcolor": "white",
            "gridwidth": 2,
            "linecolor": "white",
            "showbackground": true,
            "ticks": "",
            "zerolinecolor": "white"
           }
          },
          "shapedefaults": {
           "line": {
            "color": "#2a3f5f"
           }
          },
          "ternary": {
           "aaxis": {
            "gridcolor": "white",
            "linecolor": "white",
            "ticks": ""
           },
           "baxis": {
            "gridcolor": "white",
            "linecolor": "white",
            "ticks": ""
           },
           "bgcolor": "#E5ECF6",
           "caxis": {
            "gridcolor": "white",
            "linecolor": "white",
            "ticks": ""
           }
          },
          "title": {
           "x": 0.05
          },
          "xaxis": {
           "automargin": true,
           "gridcolor": "white",
           "linecolor": "white",
           "ticks": "",
           "title": {
            "standoff": 15
           },
           "zerolinecolor": "white",
           "zerolinewidth": 2
          },
          "yaxis": {
           "automargin": true,
           "gridcolor": "white",
           "linecolor": "white",
           "ticks": "",
           "title": {
            "standoff": 15
           },
           "zerolinecolor": "white",
           "zerolinewidth": 2
          }
         }
        },
        "xaxis": {
         "anchor": "y",
         "domain": [
          0,
          1
         ],
         "title": {
          "text": "time_delta_with_previous_rental_in_minutes"
         }
        },
        "yaxis": {
         "anchor": "x",
         "domain": [
          0,
          1
         ],
         "title": {
          "text": "count"
         }
        }
       }
      }
     },
     "metadata": {},
     "output_type": "display_data"
    }
   ],
   "source": [
    "# Vizualisation of planned time delta\n",
    "chained_df_count = chained_rentals_df[\"time_delta_with_previous_rental_in_minutes\"].value_counts()\n",
    "print(\"Nombre de locations: \", chained_df_count.sum())\n",
    "print()\n",
    "print(\"Distribution des locations en fonction de l'intervale planifié avec la précédente: \")\n",
    "display(chained_df_count)\n",
    "\n",
    "fig = px.bar(chained_df_count, y = \"count\", x=chained_df_count.index, labels=chained_df_count.index)\n",
    "fig.show()"
   ]
  },
  {
   "cell_type": "markdown",
   "id": "cd6ff2d9",
   "metadata": {},
   "source": [
    "### Exploration"
   ]
  },
  {
   "cell_type": "code",
   "execution_count": 22,
   "id": "24e62a07",
   "metadata": {},
   "outputs": [
    {
     "data": {
      "text/html": [
       "<div>\n",
       "<style scoped>\n",
       "    .dataframe tbody tr th:only-of-type {\n",
       "        vertical-align: middle;\n",
       "    }\n",
       "\n",
       "    .dataframe tbody tr th {\n",
       "        vertical-align: top;\n",
       "    }\n",
       "\n",
       "    .dataframe thead th {\n",
       "        text-align: right;\n",
       "    }\n",
       "</style>\n",
       "<table border=\"1\" class=\"dataframe\">\n",
       "  <thead>\n",
       "    <tr style=\"text-align: right;\">\n",
       "      <th></th>\n",
       "      <th>checkin_type</th>\n",
       "      <th>previous_delay_at_checkout_status</th>\n",
       "      <th>time_delta_with_previous_checkout_status</th>\n",
       "      <th>rental_count</th>\n",
       "    </tr>\n",
       "  </thead>\n",
       "  <tbody>\n",
       "    <tr>\n",
       "      <th>0</th>\n",
       "      <td>connect</td>\n",
       "      <td>delayed</td>\n",
       "      <td>checkin-delayed</td>\n",
       "      <td>54</td>\n",
       "    </tr>\n",
       "    <tr>\n",
       "      <th>1</th>\n",
       "      <td>connect</td>\n",
       "      <td>delayed</td>\n",
       "      <td>checkin-ok</td>\n",
       "      <td>201</td>\n",
       "    </tr>\n",
       "    <tr>\n",
       "      <th>2</th>\n",
       "      <td>connect</td>\n",
       "      <td>not-delayed</td>\n",
       "      <td>checkin-ok</td>\n",
       "      <td>482</td>\n",
       "    </tr>\n",
       "    <tr>\n",
       "      <th>3</th>\n",
       "      <td>mobile</td>\n",
       "      <td>delayed</td>\n",
       "      <td>checkin-delayed</td>\n",
       "      <td>101</td>\n",
       "    </tr>\n",
       "    <tr>\n",
       "      <th>4</th>\n",
       "      <td>mobile</td>\n",
       "      <td>delayed</td>\n",
       "      <td>checkin-ok</td>\n",
       "      <td>345</td>\n",
       "    </tr>\n",
       "    <tr>\n",
       "      <th>5</th>\n",
       "      <td>mobile</td>\n",
       "      <td>not-delayed</td>\n",
       "      <td>checkin-ok</td>\n",
       "      <td>459</td>\n",
       "    </tr>\n",
       "  </tbody>\n",
       "</table>\n",
       "</div>"
      ],
      "text/plain": [
       "  checkin_type previous_delay_at_checkout_status time_delta_with_previous_checkout_status  rental_count\n",
       "0      connect                           delayed                          checkin-delayed            54\n",
       "1      connect                           delayed                               checkin-ok           201\n",
       "2      connect                       not-delayed                               checkin-ok           482\n",
       "3       mobile                           delayed                          checkin-delayed           101\n",
       "4       mobile                           delayed                               checkin-ok           345\n",
       "5       mobile                       not-delayed                               checkin-ok           459"
      ]
     },
     "metadata": {},
     "output_type": "display_data"
    },
    {
     "data": {
      "text/html": [
       "<div>\n",
       "<style scoped>\n",
       "    .dataframe tbody tr th:only-of-type {\n",
       "        vertical-align: middle;\n",
       "    }\n",
       "\n",
       "    .dataframe tbody tr th {\n",
       "        vertical-align: top;\n",
       "    }\n",
       "\n",
       "    .dataframe thead th {\n",
       "        text-align: right;\n",
       "    }\n",
       "</style>\n",
       "<table border=\"1\" class=\"dataframe\">\n",
       "  <thead>\n",
       "    <tr style=\"text-align: right;\">\n",
       "      <th></th>\n",
       "      <th></th>\n",
       "      <th>rental_count</th>\n",
       "    </tr>\n",
       "    <tr>\n",
       "      <th>checkin_type</th>\n",
       "      <th>previous_delay_at_checkout_status</th>\n",
       "      <th></th>\n",
       "    </tr>\n",
       "  </thead>\n",
       "  <tbody>\n",
       "    <tr>\n",
       "      <th rowspan=\"2\" valign=\"top\">connect</th>\n",
       "      <th>delayed</th>\n",
       "      <td>255</td>\n",
       "    </tr>\n",
       "    <tr>\n",
       "      <th>not-delayed</th>\n",
       "      <td>482</td>\n",
       "    </tr>\n",
       "    <tr>\n",
       "      <th rowspan=\"2\" valign=\"top\">mobile</th>\n",
       "      <th>delayed</th>\n",
       "      <td>446</td>\n",
       "    </tr>\n",
       "    <tr>\n",
       "      <th>not-delayed</th>\n",
       "      <td>459</td>\n",
       "    </tr>\n",
       "  </tbody>\n",
       "</table>\n",
       "</div>"
      ],
      "text/plain": [
       "                                                rental_count\n",
       "checkin_type previous_delay_at_checkout_status              \n",
       "connect      delayed                                     255\n",
       "             not-delayed                                 482\n",
       "mobile       delayed                                     446\n",
       "             not-delayed                                 459"
      ]
     },
     "metadata": {},
     "output_type": "display_data"
    },
    {
     "data": {
      "text/html": [
       "<div>\n",
       "<style scoped>\n",
       "    .dataframe tbody tr th:only-of-type {\n",
       "        vertical-align: middle;\n",
       "    }\n",
       "\n",
       "    .dataframe tbody tr th {\n",
       "        vertical-align: top;\n",
       "    }\n",
       "\n",
       "    .dataframe thead th {\n",
       "        text-align: right;\n",
       "    }\n",
       "</style>\n",
       "<table border=\"1\" class=\"dataframe\">\n",
       "  <thead>\n",
       "    <tr style=\"text-align: right;\">\n",
       "      <th></th>\n",
       "      <th>rental_count</th>\n",
       "    </tr>\n",
       "    <tr>\n",
       "      <th>checkin_type</th>\n",
       "      <th></th>\n",
       "    </tr>\n",
       "  </thead>\n",
       "  <tbody>\n",
       "    <tr>\n",
       "      <th>connect</th>\n",
       "      <td>737</td>\n",
       "    </tr>\n",
       "    <tr>\n",
       "      <th>mobile</th>\n",
       "      <td>905</td>\n",
       "    </tr>\n",
       "  </tbody>\n",
       "</table>\n",
       "</div>"
      ],
      "text/plain": [
       "              rental_count\n",
       "checkin_type              \n",
       "connect                737\n",
       "mobile                 905"
      ]
     },
     "metadata": {},
     "output_type": "display_data"
    },
    {
     "data": {
      "text/html": [
       "<div>\n",
       "<style scoped>\n",
       "    .dataframe tbody tr th:only-of-type {\n",
       "        vertical-align: middle;\n",
       "    }\n",
       "\n",
       "    .dataframe tbody tr th {\n",
       "        vertical-align: top;\n",
       "    }\n",
       "\n",
       "    .dataframe thead th {\n",
       "        text-align: right;\n",
       "    }\n",
       "</style>\n",
       "<table border=\"1\" class=\"dataframe\">\n",
       "  <thead>\n",
       "    <tr style=\"text-align: right;\">\n",
       "      <th></th>\n",
       "      <th>rental_count</th>\n",
       "    </tr>\n",
       "    <tr>\n",
       "      <th>previous_delay_at_checkout_status</th>\n",
       "      <th></th>\n",
       "    </tr>\n",
       "  </thead>\n",
       "  <tbody>\n",
       "    <tr>\n",
       "      <th>delayed</th>\n",
       "      <td>701</td>\n",
       "    </tr>\n",
       "    <tr>\n",
       "      <th>not-delayed</th>\n",
       "      <td>941</td>\n",
       "    </tr>\n",
       "  </tbody>\n",
       "</table>\n",
       "</div>"
      ],
      "text/plain": [
       "                                   rental_count\n",
       "previous_delay_at_checkout_status              \n",
       "delayed                                     701\n",
       "not-delayed                                 941"
      ]
     },
     "metadata": {},
     "output_type": "display_data"
    }
   ],
   "source": [
    "# How often are drivers late for the next check-in? How does it impact the next driver?\n",
    "\n",
    "late_df = chained_rentals_df[[\"rental_id\", \"checkin_type\", \"previous_delay_at_checkout_status\", \"time_delta_with_previous_checkout_status\"]].copy()\n",
    "\n",
    "late_df[\"previous_delay_at_checkout_status\"] = late_df[\"previous_delay_at_checkout_status\"].map(lambda x: \"delayed\" if x == \"delayed\" else \"not-delayed\")\n",
    "late_count_df = late_df.groupby([\"checkin_type\", \"previous_delay_at_checkout_status\", \"time_delta_with_previous_checkout_status\"]).count().reset_index()  \n",
    "late_count_df.rename(columns={\"rental_id\": \"rental_count\"}, inplace=True)\n",
    "\n",
    "display(late_count_df)\n",
    "\n",
    "display(late_count_df[[\"checkin_type\", \"previous_delay_at_checkout_status\", \"rental_count\"]].groupby([\"checkin_type\", \"previous_delay_at_checkout_status\"]).sum())\n",
    "\n",
    "display(late_count_df[[\"checkin_type\", \"rental_count\"]].groupby([\"checkin_type\"]).sum())\n",
    "\n",
    "display(late_count_df[[\"previous_delay_at_checkout_status\", \"rental_count\"]].groupby([\"previous_delay_at_checkout_status\"]).sum())\n"
   ]
  },
  {
   "cell_type": "markdown",
   "id": "c4ea93d6",
   "metadata": {},
   "source": [
    "Check-in via `connect`:\n",
    "- 255 locations sur 737 sont en retard au checkout.\n",
    "- 54 locations sur 737 sont impactées par un retard au checkout.\n",
    "\n",
    "Check-in via `mobile`:\n",
    "- 446 locations sur 905 sont en retard au checkout.\n",
    "- 101 locations sur 905 sont impactées par un retard au checkout."
   ]
  },
  {
   "cell_type": "code",
   "execution_count": 23,
   "id": "f03b5fd0",
   "metadata": {},
   "outputs": [
    {
     "name": "stdout",
     "output_type": "stream",
     "text": [
      "=====================================================================================\n",
      "Distribution des locations annulées:\n"
     ]
    },
    {
     "data": {
      "text/html": [
       "<div>\n",
       "<style scoped>\n",
       "    .dataframe tbody tr th:only-of-type {\n",
       "        vertical-align: middle;\n",
       "    }\n",
       "\n",
       "    .dataframe tbody tr th {\n",
       "        vertical-align: top;\n",
       "    }\n",
       "\n",
       "    .dataframe thead th {\n",
       "        text-align: right;\n",
       "    }\n",
       "</style>\n",
       "<table border=\"1\" class=\"dataframe\">\n",
       "  <thead>\n",
       "    <tr style=\"text-align: right;\">\n",
       "      <th></th>\n",
       "      <th></th>\n",
       "      <th></th>\n",
       "      <th>rental_id</th>\n",
       "    </tr>\n",
       "    <tr>\n",
       "      <th>checkin_type</th>\n",
       "      <th>previous_delay_at_checkout_status</th>\n",
       "      <th>time_delta_with_previous_checkout_status</th>\n",
       "      <th></th>\n",
       "    </tr>\n",
       "  </thead>\n",
       "  <tbody>\n",
       "    <tr>\n",
       "      <th rowspan=\"4\" valign=\"top\">connect</th>\n",
       "      <th rowspan=\"2\" valign=\"top\">delayed</th>\n",
       "      <th>checkin-delayed</th>\n",
       "      <td>13</td>\n",
       "    </tr>\n",
       "    <tr>\n",
       "      <th>checkin-ok</th>\n",
       "      <td>32</td>\n",
       "    </tr>\n",
       "    <tr>\n",
       "      <th>free</th>\n",
       "      <th>checkin-ok</th>\n",
       "      <td>40</td>\n",
       "    </tr>\n",
       "    <tr>\n",
       "      <th>in-advance</th>\n",
       "      <th>checkin-ok</th>\n",
       "      <td>46</td>\n",
       "    </tr>\n",
       "    <tr>\n",
       "      <th rowspan=\"4\" valign=\"top\">mobile</th>\n",
       "      <th rowspan=\"2\" valign=\"top\">delayed</th>\n",
       "      <th>checkin-delayed</th>\n",
       "      <td>11</td>\n",
       "    </tr>\n",
       "    <tr>\n",
       "      <th>checkin-ok</th>\n",
       "      <td>32</td>\n",
       "    </tr>\n",
       "    <tr>\n",
       "      <th>free</th>\n",
       "      <th>checkin-ok</th>\n",
       "      <td>29</td>\n",
       "    </tr>\n",
       "    <tr>\n",
       "      <th>in-advance</th>\n",
       "      <th>checkin-ok</th>\n",
       "      <td>26</td>\n",
       "    </tr>\n",
       "  </tbody>\n",
       "</table>\n",
       "</div>"
      ],
      "text/plain": [
       "                                                                                         rental_id\n",
       "checkin_type previous_delay_at_checkout_status time_delta_with_previous_checkout_status           \n",
       "connect      delayed                           checkin-delayed                                  13\n",
       "                                               checkin-ok                                       32\n",
       "             free                              checkin-ok                                       40\n",
       "             in-advance                        checkin-ok                                       46\n",
       "mobile       delayed                           checkin-delayed                                  11\n",
       "                                               checkin-ok                                       32\n",
       "             free                              checkin-ok                                       29\n",
       "             in-advance                        checkin-ok                                       26"
      ]
     },
     "metadata": {},
     "output_type": "display_data"
    },
    {
     "name": "stdout",
     "output_type": "stream",
     "text": [
      "=====================================================================================\n",
      "Distribution des locations realisées:\n"
     ]
    },
    {
     "data": {
      "text/html": [
       "<div>\n",
       "<style scoped>\n",
       "    .dataframe tbody tr th:only-of-type {\n",
       "        vertical-align: middle;\n",
       "    }\n",
       "\n",
       "    .dataframe tbody tr th {\n",
       "        vertical-align: top;\n",
       "    }\n",
       "\n",
       "    .dataframe thead th {\n",
       "        text-align: right;\n",
       "    }\n",
       "</style>\n",
       "<table border=\"1\" class=\"dataframe\">\n",
       "  <thead>\n",
       "    <tr style=\"text-align: right;\">\n",
       "      <th></th>\n",
       "      <th></th>\n",
       "      <th></th>\n",
       "      <th>rental_id</th>\n",
       "    </tr>\n",
       "    <tr>\n",
       "      <th>checkin_type</th>\n",
       "      <th>previous_delay_at_checkout_status</th>\n",
       "      <th>time_delta_with_previous_checkout_status</th>\n",
       "      <th></th>\n",
       "    </tr>\n",
       "  </thead>\n",
       "  <tbody>\n",
       "    <tr>\n",
       "      <th rowspan=\"5\" valign=\"top\">connect</th>\n",
       "      <th rowspan=\"2\" valign=\"top\">delayed</th>\n",
       "      <th>checkin-delayed</th>\n",
       "      <td>41</td>\n",
       "    </tr>\n",
       "    <tr>\n",
       "      <th>checkin-ok</th>\n",
       "      <td>169</td>\n",
       "    </tr>\n",
       "    <tr>\n",
       "      <th>free</th>\n",
       "      <th>checkin-ok</th>\n",
       "      <td>96</td>\n",
       "    </tr>\n",
       "    <tr>\n",
       "      <th>in-advance</th>\n",
       "      <th>checkin-ok</th>\n",
       "      <td>292</td>\n",
       "    </tr>\n",
       "    <tr>\n",
       "      <th>on-time</th>\n",
       "      <th>checkin-ok</th>\n",
       "      <td>8</td>\n",
       "    </tr>\n",
       "    <tr>\n",
       "      <th rowspan=\"5\" valign=\"top\">mobile</th>\n",
       "      <th rowspan=\"2\" valign=\"top\">delayed</th>\n",
       "      <th>checkin-delayed</th>\n",
       "      <td>90</td>\n",
       "    </tr>\n",
       "    <tr>\n",
       "      <th>checkin-ok</th>\n",
       "      <td>313</td>\n",
       "    </tr>\n",
       "    <tr>\n",
       "      <th>free</th>\n",
       "      <th>checkin-ok</th>\n",
       "      <td>156</td>\n",
       "    </tr>\n",
       "    <tr>\n",
       "      <th>in-advance</th>\n",
       "      <th>checkin-ok</th>\n",
       "      <td>242</td>\n",
       "    </tr>\n",
       "    <tr>\n",
       "      <th>on-time</th>\n",
       "      <th>checkin-ok</th>\n",
       "      <td>6</td>\n",
       "    </tr>\n",
       "  </tbody>\n",
       "</table>\n",
       "</div>"
      ],
      "text/plain": [
       "                                                                                         rental_id\n",
       "checkin_type previous_delay_at_checkout_status time_delta_with_previous_checkout_status           \n",
       "connect      delayed                           checkin-delayed                                  41\n",
       "                                               checkin-ok                                      169\n",
       "             free                              checkin-ok                                       96\n",
       "             in-advance                        checkin-ok                                      292\n",
       "             on-time                           checkin-ok                                        8\n",
       "mobile       delayed                           checkin-delayed                                  90\n",
       "                                               checkin-ok                                      313\n",
       "             free                              checkin-ok                                      156\n",
       "             in-advance                        checkin-ok                                      242\n",
       "             on-time                           checkin-ok                                        6"
      ]
     },
     "metadata": {},
     "output_type": "display_data"
    }
   ],
   "source": [
    "canceled_df = chained_rentals_df[chained_rentals_df[\"state\"] == \"canceled\"]\n",
    "delay_canceled_stats_df = canceled_df[[\"rental_id\", \"checkin_type\", \"previous_delay_at_checkout_status\", \"time_delta_with_previous_checkout_status\"]].groupby([\"checkin_type\", \"previous_delay_at_checkout_status\", \"time_delta_with_previous_checkout_status\"]).count()\n",
    "\n",
    "ended_df = chained_rentals_df[chained_rentals_df[\"state\"] == \"ended\"]\n",
    "delay_ended_stats_df = ended_df[[\"rental_id\", \"checkin_type\", \"previous_delay_at_checkout_status\", \"time_delta_with_previous_checkout_status\"]].groupby([\"checkin_type\", \"previous_delay_at_checkout_status\", \"time_delta_with_previous_checkout_status\"]).count()\n",
    "\n",
    "print(\"=\"*85)\n",
    "print(\"Distribution des locations annulées:\")\n",
    "display(delay_canceled_stats_df)\n",
    "\n",
    "print(\"=\"*85)\n",
    "print(\"Distribution des locations realisées:\")\n",
    "display(delay_ended_stats_df)"
   ]
  },
  {
   "cell_type": "markdown",
   "id": "f0c83aa7",
   "metadata": {},
   "source": [
    "Lorsque le statut `previous_delay_at_checkout` est `delayed` et que le statut `time_delta` est `checkin-delayed`, celà signifie que le départ de la location a été impacté par le retard précédent."
   ]
  },
  {
   "cell_type": "markdown",
   "id": "0b77c562",
   "metadata": {},
   "source": [
    "### Impact du \"rental delta\"\n",
    "\n",
    "Quelles locations seraient affectées par l'instauration d'un delais tampon entre 2 locations:\n",
    "- nb de locations qui n'auraient plus lieu (celles qui suivent immédiatement ou quasiment la location précédente)\n",
    "- nb de locations qui pourraient avoir lieu à l'heure (sans attente pour un retard)\n",
    "\n",
    "Evaluons l'impact du futur `min_time_delta_with_previous_rental_in_minutes` sur les locations:\n",
    "- combien de locations planifiées se verraient décalées du fait de ce delta (locations devant partir lors d'un check-in à l'heure)\n",
    "- combien de locations (on-time) se verraient décalées du fait de ce delta (locations étant parties lors d'un check-in à l'heure)\n",
    "- combien de check-ins retardées seraient évitées (locations étant parties durant ce délais, lors d'un check-in en retard due à un retard de checkout)\n",
    "- combien de location effectivement rendues en retard dans ce delai\n",
    "- combien de location ne sont pas affectées (départ au dela de ce délais)"
   ]
  },
  {
   "cell_type": "code",
   "execution_count": 24,
   "id": "78e05690",
   "metadata": {},
   "outputs": [
    {
     "data": {
      "text/html": [
       "<div>\n",
       "<style scoped>\n",
       "    .dataframe tbody tr th:only-of-type {\n",
       "        vertical-align: middle;\n",
       "    }\n",
       "\n",
       "    .dataframe tbody tr th {\n",
       "        vertical-align: top;\n",
       "    }\n",
       "\n",
       "    .dataframe thead th {\n",
       "        text-align: right;\n",
       "    }\n",
       "</style>\n",
       "<table border=\"1\" class=\"dataframe\">\n",
       "  <thead>\n",
       "    <tr style=\"text-align: right;\">\n",
       "      <th></th>\n",
       "      <th>rental_id</th>\n",
       "      <th>car_id</th>\n",
       "      <th>checkin_type</th>\n",
       "      <th>state</th>\n",
       "      <th>delay_at_checkout_in_minutes</th>\n",
       "      <th>previous_ended_rental_id</th>\n",
       "      <th>time_delta_with_previous_rental_in_minutes</th>\n",
       "      <th>previous_delay_at_checkout_in_minutes</th>\n",
       "      <th>time_delta_with_previous_checkout_in_minutes</th>\n",
       "      <th>delay_at_checkout_status</th>\n",
       "      <th>previous_delay_at_checkout_status</th>\n",
       "      <th>time_delta_with_previous_checkout_status</th>\n",
       "    </tr>\n",
       "  </thead>\n",
       "  <tbody>\n",
       "    <tr>\n",
       "      <th>94</th>\n",
       "      <td>537576</td>\n",
       "      <td>397470</td>\n",
       "      <td>mobile</td>\n",
       "      <td>ended</td>\n",
       "      <td>18.0</td>\n",
       "      <td>539005</td>\n",
       "      <td>0.0</td>\n",
       "      <td>-29.0</td>\n",
       "      <td>29.0</td>\n",
       "      <td>delayed</td>\n",
       "      <td>in-advance</td>\n",
       "      <td>checkin-ok</td>\n",
       "    </tr>\n",
       "    <tr>\n",
       "      <th>404</th>\n",
       "      <td>561368</td>\n",
       "      <td>249274</td>\n",
       "      <td>connect</td>\n",
       "      <td>ended</td>\n",
       "      <td>-3.0</td>\n",
       "      <td>558711</td>\n",
       "      <td>30.0</td>\n",
       "      <td>10.0</td>\n",
       "      <td>20.0</td>\n",
       "      <td>in-advance</td>\n",
       "      <td>delayed</td>\n",
       "      <td>checkin-ok</td>\n",
       "    </tr>\n",
       "    <tr>\n",
       "      <th>545</th>\n",
       "      <td>567120</td>\n",
       "      <td>415953</td>\n",
       "      <td>mobile</td>\n",
       "      <td>ended</td>\n",
       "      <td>27.0</td>\n",
       "      <td>567178</td>\n",
       "      <td>150.0</td>\n",
       "      <td>145.0</td>\n",
       "      <td>5.0</td>\n",
       "      <td>delayed</td>\n",
       "      <td>delayed</td>\n",
       "      <td>checkin-ok</td>\n",
       "    </tr>\n",
       "    <tr>\n",
       "      <th>554</th>\n",
       "      <td>567636</td>\n",
       "      <td>376840</td>\n",
       "      <td>connect</td>\n",
       "      <td>ended</td>\n",
       "      <td>101.0</td>\n",
       "      <td>564959</td>\n",
       "      <td>0.0</td>\n",
       "      <td>-2.0</td>\n",
       "      <td>2.0</td>\n",
       "      <td>delayed</td>\n",
       "      <td>in-advance</td>\n",
       "      <td>checkin-ok</td>\n",
       "    </tr>\n",
       "    <tr>\n",
       "      <th>985</th>\n",
       "      <td>539618</td>\n",
       "      <td>297119</td>\n",
       "      <td>mobile</td>\n",
       "      <td>ended</td>\n",
       "      <td>101.0</td>\n",
       "      <td>538807</td>\n",
       "      <td>30.0</td>\n",
       "      <td>7.0</td>\n",
       "      <td>23.0</td>\n",
       "      <td>delayed</td>\n",
       "      <td>delayed</td>\n",
       "      <td>checkin-ok</td>\n",
       "    </tr>\n",
       "    <tr>\n",
       "      <th>...</th>\n",
       "      <td>...</td>\n",
       "      <td>...</td>\n",
       "      <td>...</td>\n",
       "      <td>...</td>\n",
       "      <td>...</td>\n",
       "      <td>...</td>\n",
       "      <td>...</td>\n",
       "      <td>...</td>\n",
       "      <td>...</td>\n",
       "      <td>...</td>\n",
       "      <td>...</td>\n",
       "      <td>...</td>\n",
       "    </tr>\n",
       "    <tr>\n",
       "      <th>17972</th>\n",
       "      <td>567264</td>\n",
       "      <td>410255</td>\n",
       "      <td>connect</td>\n",
       "      <td>ended</td>\n",
       "      <td>183.0</td>\n",
       "      <td>564975</td>\n",
       "      <td>0.0</td>\n",
       "      <td>-19.0</td>\n",
       "      <td>19.0</td>\n",
       "      <td>delayed</td>\n",
       "      <td>in-advance</td>\n",
       "      <td>checkin-ok</td>\n",
       "    </tr>\n",
       "    <tr>\n",
       "      <th>18024</th>\n",
       "      <td>561334</td>\n",
       "      <td>410939</td>\n",
       "      <td>connect</td>\n",
       "      <td>ended</td>\n",
       "      <td>-157.0</td>\n",
       "      <td>565171</td>\n",
       "      <td>0.0</td>\n",
       "      <td>-15.0</td>\n",
       "      <td>15.0</td>\n",
       "      <td>in-advance</td>\n",
       "      <td>in-advance</td>\n",
       "      <td>checkin-ok</td>\n",
       "    </tr>\n",
       "    <tr>\n",
       "      <th>18172</th>\n",
       "      <td>542314</td>\n",
       "      <td>388111</td>\n",
       "      <td>mobile</td>\n",
       "      <td>ended</td>\n",
       "      <td>38.0</td>\n",
       "      <td>509727</td>\n",
       "      <td>30.0</td>\n",
       "      <td>25.0</td>\n",
       "      <td>5.0</td>\n",
       "      <td>delayed</td>\n",
       "      <td>delayed</td>\n",
       "      <td>checkin-ok</td>\n",
       "    </tr>\n",
       "    <tr>\n",
       "      <th>18393</th>\n",
       "      <td>551116</td>\n",
       "      <td>390467</td>\n",
       "      <td>connect</td>\n",
       "      <td>canceled</td>\n",
       "      <td>NaN</td>\n",
       "      <td>548851</td>\n",
       "      <td>0.0</td>\n",
       "      <td>-16.0</td>\n",
       "      <td>16.0</td>\n",
       "      <td>free</td>\n",
       "      <td>in-advance</td>\n",
       "      <td>checkin-ok</td>\n",
       "    </tr>\n",
       "    <tr>\n",
       "      <th>18428</th>\n",
       "      <td>553351</td>\n",
       "      <td>406124</td>\n",
       "      <td>connect</td>\n",
       "      <td>ended</td>\n",
       "      <td>90.0</td>\n",
       "      <td>557210</td>\n",
       "      <td>0.0</td>\n",
       "      <td>-10.0</td>\n",
       "      <td>10.0</td>\n",
       "      <td>delayed</td>\n",
       "      <td>in-advance</td>\n",
       "      <td>checkin-ok</td>\n",
       "    </tr>\n",
       "  </tbody>\n",
       "</table>\n",
       "<p>113 rows × 12 columns</p>\n",
       "</div>"
      ],
      "text/plain": [
       "       rental_id  car_id checkin_type     state  delay_at_checkout_in_minutes  previous_ended_rental_id  time_delta_with_previous_rental_in_minutes  previous_delay_at_checkout_in_minutes  time_delta_with_previous_checkout_in_minutes delay_at_checkout_status previous_delay_at_checkout_status time_delta_with_previous_checkout_status\n",
       "94        537576  397470       mobile     ended                          18.0                    539005                                         0.0                                  -29.0                                          29.0                  delayed                        in-advance                               checkin-ok\n",
       "404       561368  249274      connect     ended                          -3.0                    558711                                        30.0                                   10.0                                          20.0               in-advance                           delayed                               checkin-ok\n",
       "545       567120  415953       mobile     ended                          27.0                    567178                                       150.0                                  145.0                                           5.0                  delayed                           delayed                               checkin-ok\n",
       "554       567636  376840      connect     ended                         101.0                    564959                                         0.0                                   -2.0                                           2.0                  delayed                        in-advance                               checkin-ok\n",
       "985       539618  297119       mobile     ended                         101.0                    538807                                        30.0                                    7.0                                          23.0                  delayed                           delayed                               checkin-ok\n",
       "...          ...     ...          ...       ...                           ...                       ...                                         ...                                    ...                                           ...                      ...                               ...                                      ...\n",
       "17972     567264  410255      connect     ended                         183.0                    564975                                         0.0                                  -19.0                                          19.0                  delayed                        in-advance                               checkin-ok\n",
       "18024     561334  410939      connect     ended                        -157.0                    565171                                         0.0                                  -15.0                                          15.0               in-advance                        in-advance                               checkin-ok\n",
       "18172     542314  388111       mobile     ended                          38.0                    509727                                        30.0                                   25.0                                           5.0                  delayed                           delayed                               checkin-ok\n",
       "18393     551116  390467      connect  canceled                           NaN                    548851                                         0.0                                  -16.0                                          16.0                     free                        in-advance                               checkin-ok\n",
       "18428     553351  406124      connect     ended                          90.0                    557210                                         0.0                                  -10.0                                          10.0                  delayed                        in-advance                               checkin-ok\n",
       "\n",
       "[113 rows x 12 columns]"
      ]
     },
     "execution_count": 24,
     "metadata": {},
     "output_type": "execute_result"
    }
   ],
   "source": [
    "df = chained_rentals_df[(chained_rentals_df[\"time_delta_with_previous_checkout_in_minutes\"] >= 0) & (chained_rentals_df[\"time_delta_with_previous_checkout_in_minutes\"] < 30)]\n",
    "\n",
    "df"
   ]
  },
  {
   "cell_type": "code",
   "execution_count": 25,
   "id": "42e38e23",
   "metadata": {},
   "outputs": [
    {
     "data": {
      "text/html": [
       "<div>\n",
       "<style scoped>\n",
       "    .dataframe tbody tr th:only-of-type {\n",
       "        vertical-align: middle;\n",
       "    }\n",
       "\n",
       "    .dataframe tbody tr th {\n",
       "        vertical-align: top;\n",
       "    }\n",
       "\n",
       "    .dataframe thead th {\n",
       "        text-align: right;\n",
       "    }\n",
       "</style>\n",
       "<table border=\"1\" class=\"dataframe\">\n",
       "  <thead>\n",
       "    <tr style=\"text-align: right;\">\n",
       "      <th></th>\n",
       "      <th>checkin_type</th>\n",
       "      <th>impacted_planned_rentals_count</th>\n",
       "      <th>impacted_real_on_time_rentals_count</th>\n",
       "      <th>impacted_real_checkin_delayed_rentals_count</th>\n",
       "      <th>impacted_planned_checkout_delayed_rentals_count</th>\n",
       "      <th>impacted_planned_previous_checkout_delayed_rentals_count</th>\n",
       "      <th>rental_delta</th>\n",
       "    </tr>\n",
       "  </thead>\n",
       "  <tbody>\n",
       "    <tr>\n",
       "      <th>0</th>\n",
       "      <td>mobile</td>\n",
       "      <td>0</td>\n",
       "      <td>0</td>\n",
       "      <td>0</td>\n",
       "      <td>0</td>\n",
       "      <td>0</td>\n",
       "      <td>0</td>\n",
       "    </tr>\n",
       "    <tr>\n",
       "      <th>1</th>\n",
       "      <td>connect</td>\n",
       "      <td>0</td>\n",
       "      <td>0</td>\n",
       "      <td>0</td>\n",
       "      <td>0</td>\n",
       "      <td>0</td>\n",
       "      <td>0</td>\n",
       "    </tr>\n",
       "    <tr>\n",
       "      <th>2</th>\n",
       "      <td>mobile</td>\n",
       "      <td>130</td>\n",
       "      <td>60</td>\n",
       "      <td>63</td>\n",
       "      <td>32</td>\n",
       "      <td>40</td>\n",
       "      <td>30</td>\n",
       "    </tr>\n",
       "    <tr>\n",
       "      <th>3</th>\n",
       "      <td>connect</td>\n",
       "      <td>118</td>\n",
       "      <td>53</td>\n",
       "      <td>34</td>\n",
       "      <td>13</td>\n",
       "      <td>20</td>\n",
       "      <td>30</td>\n",
       "    </tr>\n",
       "    <tr>\n",
       "      <th>4</th>\n",
       "      <td>mobile</td>\n",
       "      <td>192</td>\n",
       "      <td>119</td>\n",
       "      <td>78</td>\n",
       "      <td>67</td>\n",
       "      <td>77</td>\n",
       "      <td>60</td>\n",
       "    </tr>\n",
       "    <tr>\n",
       "      <th>5</th>\n",
       "      <td>connect</td>\n",
       "      <td>165</td>\n",
       "      <td>91</td>\n",
       "      <td>41</td>\n",
       "      <td>43</td>\n",
       "      <td>42</td>\n",
       "      <td>60</td>\n",
       "    </tr>\n",
       "    <tr>\n",
       "      <th>6</th>\n",
       "      <td>mobile</td>\n",
       "      <td>284</td>\n",
       "      <td>176</td>\n",
       "      <td>89</td>\n",
       "      <td>111</td>\n",
       "      <td>124</td>\n",
       "      <td>90</td>\n",
       "    </tr>\n",
       "    <tr>\n",
       "      <th>7</th>\n",
       "      <td>connect</td>\n",
       "      <td>237</td>\n",
       "      <td>123</td>\n",
       "      <td>48</td>\n",
       "      <td>73</td>\n",
       "      <td>58</td>\n",
       "      <td>90</td>\n",
       "    </tr>\n",
       "    <tr>\n",
       "      <th>8</th>\n",
       "      <td>mobile</td>\n",
       "      <td>319</td>\n",
       "      <td>220</td>\n",
       "      <td>92</td>\n",
       "      <td>141</td>\n",
       "      <td>149</td>\n",
       "      <td>120</td>\n",
       "    </tr>\n",
       "    <tr>\n",
       "      <th>9</th>\n",
       "      <td>connect</td>\n",
       "      <td>270</td>\n",
       "      <td>162</td>\n",
       "      <td>51</td>\n",
       "      <td>95</td>\n",
       "      <td>78</td>\n",
       "      <td>120</td>\n",
       "    </tr>\n",
       "    <tr>\n",
       "      <th>10</th>\n",
       "      <td>mobile</td>\n",
       "      <td>395</td>\n",
       "      <td>256</td>\n",
       "      <td>98</td>\n",
       "      <td>188</td>\n",
       "      <td>198</td>\n",
       "      <td>150</td>\n",
       "    </tr>\n",
       "    <tr>\n",
       "      <th>11</th>\n",
       "      <td>connect</td>\n",
       "      <td>315</td>\n",
       "      <td>192</td>\n",
       "      <td>53</td>\n",
       "      <td>116</td>\n",
       "      <td>93</td>\n",
       "      <td>150</td>\n",
       "    </tr>\n",
       "    <tr>\n",
       "      <th>12</th>\n",
       "      <td>mobile</td>\n",
       "      <td>431</td>\n",
       "      <td>285</td>\n",
       "      <td>99</td>\n",
       "      <td>212</td>\n",
       "      <td>223</td>\n",
       "      <td>180</td>\n",
       "    </tr>\n",
       "    <tr>\n",
       "      <th>13</th>\n",
       "      <td>connect</td>\n",
       "      <td>336</td>\n",
       "      <td>217</td>\n",
       "      <td>54</td>\n",
       "      <td>124</td>\n",
       "      <td>103</td>\n",
       "      <td>180</td>\n",
       "    </tr>\n",
       "    <tr>\n",
       "      <th>14</th>\n",
       "      <td>mobile</td>\n",
       "      <td>475</td>\n",
       "      <td>315</td>\n",
       "      <td>101</td>\n",
       "      <td>241</td>\n",
       "      <td>253</td>\n",
       "      <td>210</td>\n",
       "    </tr>\n",
       "    <tr>\n",
       "      <th>15</th>\n",
       "      <td>connect</td>\n",
       "      <td>368</td>\n",
       "      <td>239</td>\n",
       "      <td>54</td>\n",
       "      <td>141</td>\n",
       "      <td>116</td>\n",
       "      <td>210</td>\n",
       "    </tr>\n",
       "    <tr>\n",
       "      <th>16</th>\n",
       "      <td>mobile</td>\n",
       "      <td>499</td>\n",
       "      <td>340</td>\n",
       "      <td>101</td>\n",
       "      <td>254</td>\n",
       "      <td>269</td>\n",
       "      <td>240</td>\n",
       "    </tr>\n",
       "    <tr>\n",
       "      <th>17</th>\n",
       "      <td>connect</td>\n",
       "      <td>387</td>\n",
       "      <td>265</td>\n",
       "      <td>54</td>\n",
       "      <td>146</td>\n",
       "      <td>122</td>\n",
       "      <td>240</td>\n",
       "    </tr>\n",
       "    <tr>\n",
       "      <th>18</th>\n",
       "      <td>mobile</td>\n",
       "      <td>527</td>\n",
       "      <td>362</td>\n",
       "      <td>101</td>\n",
       "      <td>269</td>\n",
       "      <td>283</td>\n",
       "      <td>270</td>\n",
       "    </tr>\n",
       "    <tr>\n",
       "      <th>19</th>\n",
       "      <td>connect</td>\n",
       "      <td>419</td>\n",
       "      <td>282</td>\n",
       "      <td>54</td>\n",
       "      <td>158</td>\n",
       "      <td>133</td>\n",
       "      <td>270</td>\n",
       "    </tr>\n",
       "    <tr>\n",
       "      <th>20</th>\n",
       "      <td>mobile</td>\n",
       "      <td>550</td>\n",
       "      <td>378</td>\n",
       "      <td>101</td>\n",
       "      <td>279</td>\n",
       "      <td>298</td>\n",
       "      <td>300</td>\n",
       "    </tr>\n",
       "    <tr>\n",
       "      <th>21</th>\n",
       "      <td>connect</td>\n",
       "      <td>432</td>\n",
       "      <td>295</td>\n",
       "      <td>54</td>\n",
       "      <td>160</td>\n",
       "      <td>137</td>\n",
       "      <td>300</td>\n",
       "    </tr>\n",
       "    <tr>\n",
       "      <th>22</th>\n",
       "      <td>mobile</td>\n",
       "      <td>576</td>\n",
       "      <td>390</td>\n",
       "      <td>101</td>\n",
       "      <td>294</td>\n",
       "      <td>313</td>\n",
       "      <td>330</td>\n",
       "    </tr>\n",
       "    <tr>\n",
       "      <th>23</th>\n",
       "      <td>connect</td>\n",
       "      <td>443</td>\n",
       "      <td>304</td>\n",
       "      <td>54</td>\n",
       "      <td>165</td>\n",
       "      <td>140</td>\n",
       "      <td>330</td>\n",
       "    </tr>\n",
       "    <tr>\n",
       "      <th>24</th>\n",
       "      <td>mobile</td>\n",
       "      <td>588</td>\n",
       "      <td>402</td>\n",
       "      <td>101</td>\n",
       "      <td>300</td>\n",
       "      <td>320</td>\n",
       "      <td>360</td>\n",
       "    </tr>\n",
       "    <tr>\n",
       "      <th>25</th>\n",
       "      <td>connect</td>\n",
       "      <td>454</td>\n",
       "      <td>320</td>\n",
       "      <td>54</td>\n",
       "      <td>168</td>\n",
       "      <td>140</td>\n",
       "      <td>360</td>\n",
       "    </tr>\n",
       "    <tr>\n",
       "      <th>26</th>\n",
       "      <td>mobile</td>\n",
       "      <td>608</td>\n",
       "      <td>413</td>\n",
       "      <td>101</td>\n",
       "      <td>311</td>\n",
       "      <td>330</td>\n",
       "      <td>390</td>\n",
       "    </tr>\n",
       "    <tr>\n",
       "      <th>27</th>\n",
       "      <td>connect</td>\n",
       "      <td>470</td>\n",
       "      <td>328</td>\n",
       "      <td>54</td>\n",
       "      <td>174</td>\n",
       "      <td>150</td>\n",
       "      <td>390</td>\n",
       "    </tr>\n",
       "    <tr>\n",
       "      <th>28</th>\n",
       "      <td>mobile</td>\n",
       "      <td>618</td>\n",
       "      <td>416</td>\n",
       "      <td>101</td>\n",
       "      <td>315</td>\n",
       "      <td>336</td>\n",
       "      <td>420</td>\n",
       "    </tr>\n",
       "    <tr>\n",
       "      <th>29</th>\n",
       "      <td>connect</td>\n",
       "      <td>473</td>\n",
       "      <td>337</td>\n",
       "      <td>54</td>\n",
       "      <td>175</td>\n",
       "      <td>152</td>\n",
       "      <td>420</td>\n",
       "    </tr>\n",
       "    <tr>\n",
       "      <th>30</th>\n",
       "      <td>mobile</td>\n",
       "      <td>638</td>\n",
       "      <td>427</td>\n",
       "      <td>101</td>\n",
       "      <td>326</td>\n",
       "      <td>346</td>\n",
       "      <td>450</td>\n",
       "    </tr>\n",
       "    <tr>\n",
       "      <th>31</th>\n",
       "      <td>connect</td>\n",
       "      <td>489</td>\n",
       "      <td>346</td>\n",
       "      <td>54</td>\n",
       "      <td>181</td>\n",
       "      <td>157</td>\n",
       "      <td>450</td>\n",
       "    </tr>\n",
       "    <tr>\n",
       "      <th>32</th>\n",
       "      <td>mobile</td>\n",
       "      <td>651</td>\n",
       "      <td>439</td>\n",
       "      <td>101</td>\n",
       "      <td>333</td>\n",
       "      <td>350</td>\n",
       "      <td>480</td>\n",
       "    </tr>\n",
       "    <tr>\n",
       "      <th>33</th>\n",
       "      <td>connect</td>\n",
       "      <td>498</td>\n",
       "      <td>356</td>\n",
       "      <td>54</td>\n",
       "      <td>185</td>\n",
       "      <td>161</td>\n",
       "      <td>480</td>\n",
       "    </tr>\n",
       "    <tr>\n",
       "      <th>34</th>\n",
       "      <td>mobile</td>\n",
       "      <td>675</td>\n",
       "      <td>448</td>\n",
       "      <td>101</td>\n",
       "      <td>342</td>\n",
       "      <td>360</td>\n",
       "      <td>510</td>\n",
       "    </tr>\n",
       "    <tr>\n",
       "      <th>35</th>\n",
       "      <td>connect</td>\n",
       "      <td>512</td>\n",
       "      <td>376</td>\n",
       "      <td>54</td>\n",
       "      <td>191</td>\n",
       "      <td>164</td>\n",
       "      <td>510</td>\n",
       "    </tr>\n",
       "    <tr>\n",
       "      <th>36</th>\n",
       "      <td>mobile</td>\n",
       "      <td>689</td>\n",
       "      <td>457</td>\n",
       "      <td>101</td>\n",
       "      <td>347</td>\n",
       "      <td>362</td>\n",
       "      <td>540</td>\n",
       "    </tr>\n",
       "    <tr>\n",
       "      <th>37</th>\n",
       "      <td>connect</td>\n",
       "      <td>532</td>\n",
       "      <td>388</td>\n",
       "      <td>54</td>\n",
       "      <td>198</td>\n",
       "      <td>175</td>\n",
       "      <td>540</td>\n",
       "    </tr>\n",
       "    <tr>\n",
       "      <th>38</th>\n",
       "      <td>mobile</td>\n",
       "      <td>704</td>\n",
       "      <td>478</td>\n",
       "      <td>101</td>\n",
       "      <td>352</td>\n",
       "      <td>370</td>\n",
       "      <td>570</td>\n",
       "    </tr>\n",
       "    <tr>\n",
       "      <th>39</th>\n",
       "      <td>connect</td>\n",
       "      <td>550</td>\n",
       "      <td>405</td>\n",
       "      <td>54</td>\n",
       "      <td>207</td>\n",
       "      <td>182</td>\n",
       "      <td>570</td>\n",
       "    </tr>\n",
       "    <tr>\n",
       "      <th>40</th>\n",
       "      <td>mobile</td>\n",
       "      <td>725</td>\n",
       "      <td>489</td>\n",
       "      <td>101</td>\n",
       "      <td>362</td>\n",
       "      <td>380</td>\n",
       "      <td>600</td>\n",
       "    </tr>\n",
       "    <tr>\n",
       "      <th>41</th>\n",
       "      <td>connect</td>\n",
       "      <td>570</td>\n",
       "      <td>424</td>\n",
       "      <td>54</td>\n",
       "      <td>214</td>\n",
       "      <td>189</td>\n",
       "      <td>600</td>\n",
       "    </tr>\n",
       "    <tr>\n",
       "      <th>42</th>\n",
       "      <td>mobile</td>\n",
       "      <td>761</td>\n",
       "      <td>505</td>\n",
       "      <td>101</td>\n",
       "      <td>378</td>\n",
       "      <td>392</td>\n",
       "      <td>630</td>\n",
       "    </tr>\n",
       "    <tr>\n",
       "      <th>43</th>\n",
       "      <td>connect</td>\n",
       "      <td>601</td>\n",
       "      <td>440</td>\n",
       "      <td>54</td>\n",
       "      <td>217</td>\n",
       "      <td>204</td>\n",
       "      <td>630</td>\n",
       "    </tr>\n",
       "    <tr>\n",
       "      <th>44</th>\n",
       "      <td>mobile</td>\n",
       "      <td>782</td>\n",
       "      <td>524</td>\n",
       "      <td>101</td>\n",
       "      <td>385</td>\n",
       "      <td>402</td>\n",
       "      <td>660</td>\n",
       "    </tr>\n",
       "    <tr>\n",
       "      <th>45</th>\n",
       "      <td>connect</td>\n",
       "      <td>626</td>\n",
       "      <td>455</td>\n",
       "      <td>54</td>\n",
       "      <td>225</td>\n",
       "      <td>216</td>\n",
       "      <td>660</td>\n",
       "    </tr>\n",
       "    <tr>\n",
       "      <th>46</th>\n",
       "      <td>mobile</td>\n",
       "      <td>816</td>\n",
       "      <td>548</td>\n",
       "      <td>101</td>\n",
       "      <td>403</td>\n",
       "      <td>413</td>\n",
       "      <td>690</td>\n",
       "    </tr>\n",
       "    <tr>\n",
       "      <th>47</th>\n",
       "      <td>connect</td>\n",
       "      <td>656</td>\n",
       "      <td>471</td>\n",
       "      <td>54</td>\n",
       "      <td>236</td>\n",
       "      <td>224</td>\n",
       "      <td>690</td>\n",
       "    </tr>\n",
       "  </tbody>\n",
       "</table>\n",
       "</div>"
      ],
      "text/plain": [
       "   checkin_type  impacted_planned_rentals_count  impacted_real_on_time_rentals_count  impacted_real_checkin_delayed_rentals_count  impacted_planned_checkout_delayed_rentals_count  impacted_planned_previous_checkout_delayed_rentals_count  rental_delta\n",
       "0        mobile                               0                                    0                                            0                                                0                                                         0             0\n",
       "1       connect                               0                                    0                                            0                                                0                                                         0             0\n",
       "2        mobile                             130                                   60                                           63                                               32                                                        40            30\n",
       "3       connect                             118                                   53                                           34                                               13                                                        20            30\n",
       "4        mobile                             192                                  119                                           78                                               67                                                        77            60\n",
       "5       connect                             165                                   91                                           41                                               43                                                        42            60\n",
       "6        mobile                             284                                  176                                           89                                              111                                                       124            90\n",
       "7       connect                             237                                  123                                           48                                               73                                                        58            90\n",
       "8        mobile                             319                                  220                                           92                                              141                                                       149           120\n",
       "9       connect                             270                                  162                                           51                                               95                                                        78           120\n",
       "10       mobile                             395                                  256                                           98                                              188                                                       198           150\n",
       "11      connect                             315                                  192                                           53                                              116                                                        93           150\n",
       "12       mobile                             431                                  285                                           99                                              212                                                       223           180\n",
       "13      connect                             336                                  217                                           54                                              124                                                       103           180\n",
       "14       mobile                             475                                  315                                          101                                              241                                                       253           210\n",
       "15      connect                             368                                  239                                           54                                              141                                                       116           210\n",
       "16       mobile                             499                                  340                                          101                                              254                                                       269           240\n",
       "17      connect                             387                                  265                                           54                                              146                                                       122           240\n",
       "18       mobile                             527                                  362                                          101                                              269                                                       283           270\n",
       "19      connect                             419                                  282                                           54                                              158                                                       133           270\n",
       "20       mobile                             550                                  378                                          101                                              279                                                       298           300\n",
       "21      connect                             432                                  295                                           54                                              160                                                       137           300\n",
       "22       mobile                             576                                  390                                          101                                              294                                                       313           330\n",
       "23      connect                             443                                  304                                           54                                              165                                                       140           330\n",
       "24       mobile                             588                                  402                                          101                                              300                                                       320           360\n",
       "25      connect                             454                                  320                                           54                                              168                                                       140           360\n",
       "26       mobile                             608                                  413                                          101                                              311                                                       330           390\n",
       "27      connect                             470                                  328                                           54                                              174                                                       150           390\n",
       "28       mobile                             618                                  416                                          101                                              315                                                       336           420\n",
       "29      connect                             473                                  337                                           54                                              175                                                       152           420\n",
       "30       mobile                             638                                  427                                          101                                              326                                                       346           450\n",
       "31      connect                             489                                  346                                           54                                              181                                                       157           450\n",
       "32       mobile                             651                                  439                                          101                                              333                                                       350           480\n",
       "33      connect                             498                                  356                                           54                                              185                                                       161           480\n",
       "34       mobile                             675                                  448                                          101                                              342                                                       360           510\n",
       "35      connect                             512                                  376                                           54                                              191                                                       164           510\n",
       "36       mobile                             689                                  457                                          101                                              347                                                       362           540\n",
       "37      connect                             532                                  388                                           54                                              198                                                       175           540\n",
       "38       mobile                             704                                  478                                          101                                              352                                                       370           570\n",
       "39      connect                             550                                  405                                           54                                              207                                                       182           570\n",
       "40       mobile                             725                                  489                                          101                                              362                                                       380           600\n",
       "41      connect                             570                                  424                                           54                                              214                                                       189           600\n",
       "42       mobile                             761                                  505                                          101                                              378                                                       392           630\n",
       "43      connect                             601                                  440                                           54                                              217                                                       204           630\n",
       "44       mobile                             782                                  524                                          101                                              385                                                       402           660\n",
       "45      connect                             626                                  455                                           54                                              225                                                       216           660\n",
       "46       mobile                             816                                  548                                          101                                              403                                                       413           690\n",
       "47      connect                             656                                  471                                           54                                              236                                                       224           690"
      ]
     },
     "execution_count": 25,
     "metadata": {},
     "output_type": "execute_result"
    }
   ],
   "source": [
    "# On utilise un step de 30 minutes afin de calculer l'impact sur l'ensemble des locations\n",
    "min_time_delta_thresholds = [td for td in range(0, 720, 30)]\n",
    "\n",
    "# impacted_planned_rentals_count\n",
    "# impacted_real_on_time_rentals_count\n",
    "# impacted_real_checkin_delayed_rentals_count\n",
    "# impacted_planned_checkout_delayed_rentals_count\n",
    "# unimpacted_rentals_count\n",
    "def compute_rental_delta_impact(checkin_type, rental_delta_in_minutes, df):\n",
    "    # planned: time_delta_with_previous_rental_in_minutes\n",
    "    # real: time_delta_with_previous_checkout_in_minutes\n",
    "    \n",
    "    impacted_df = df[df[\"checkin_type\"] == checkin_type]\n",
    "    \n",
    "    \n",
    "    planned_rentals_df = impacted_df[impacted_df[\"time_delta_with_previous_rental_in_minutes\"] < rental_delta_in_minutes]\n",
    "\n",
    "    real_rentals_df = impacted_df[(impacted_df[\"time_delta_with_previous_checkout_in_minutes\"] >= 0) & (impacted_df[\"time_delta_with_previous_checkout_in_minutes\"] < rental_delta_in_minutes)]\n",
    "\n",
    "    impacted_planned_rentals_count = len(planned_rentals_df)\n",
    "    \n",
    "    # checkin-ok\n",
    "    impacted_real_on_time_rentals_count = len(real_rentals_df[real_rentals_df[\"time_delta_with_previous_checkout_status\"] == \"checkin-ok\"])\n",
    "    # checkin-delayed (location rendue trop en retard par rapport au checkin planifié)\n",
    "    impacted_real_checkin_delayed_rentals_count = len(planned_rentals_df[planned_rentals_df[\"time_delta_with_previous_checkout_status\"] == \"checkin-delayed\"])\n",
    "    \n",
    "    # Location précédente rendue en retard dans l'intervale du rental_delta\n",
    "    impacted_planned_checkout_delayed_rentals_count = len(planned_rentals_df[(planned_rentals_df[\"delay_at_checkout_in_minutes\"] > 0) & (planned_rentals_df[\"delay_at_checkout_in_minutes\"] < rental_delta_in_minutes)])\n",
    "    impacted_planned_previous_checkout_delayed_rentals_count = len(planned_rentals_df[(planned_rentals_df[\"previous_delay_at_checkout_in_minutes\"] > 0) & (planned_rentals_df[\"previous_delay_at_checkout_in_minutes\"] < rental_delta_in_minutes)])\n",
    "    # impacted_checkout_delayed_rentals_count\n",
    "\n",
    "    # Split by check-in type ?\n",
    "    \n",
    "    return {\n",
    "        \"checkin_type\": checkin_type,\n",
    "        \"impacted_planned_rentals_count\": impacted_planned_rentals_count,\n",
    "        \"impacted_real_on_time_rentals_count\": impacted_real_on_time_rentals_count,\n",
    "        \"impacted_real_checkin_delayed_rentals_count\": impacted_real_checkin_delayed_rentals_count,\n",
    "        \"impacted_planned_checkout_delayed_rentals_count\": impacted_planned_checkout_delayed_rentals_count,\n",
    "        \"impacted_planned_previous_checkout_delayed_rentals_count\": impacted_planned_previous_checkout_delayed_rentals_count,\n",
    "    } \n",
    "\n",
    "rental_delta_impact = []\n",
    "\n",
    "for min_rental_delta_t in min_time_delta_thresholds:\n",
    "    row = compute_rental_delta_impact(\"mobile\", min_rental_delta_t, chained_rentals_df)\n",
    "    row[\"rental_delta\"] = min_rental_delta_t\n",
    "    rental_delta_impact.append(row)\n",
    "    \n",
    "    row = compute_rental_delta_impact(\"connect\", min_rental_delta_t, chained_rentals_df)\n",
    "    row[\"rental_delta\"] = min_rental_delta_t\n",
    "    rental_delta_impact.append(row)\n",
    "\n",
    "rental_delta_impact_df = pd.DataFrame(rental_delta_impact)    \n",
    "\n",
    "rental_delta_impact_df"
   ]
  },
  {
   "cell_type": "code",
   "execution_count": 26,
   "id": "a15aef65",
   "metadata": {},
   "outputs": [
    {
     "data": {
      "text/plain": [
       "Index(['checkin_type', 'impacted_planned_rentals_count', 'impacted_real_on_time_rentals_count', 'impacted_real_checkin_delayed_rentals_count', 'impacted_planned_checkout_delayed_rentals_count', 'impacted_planned_previous_checkout_delayed_rentals_count', 'rental_delta'], dtype='object')"
      ]
     },
     "execution_count": 26,
     "metadata": {},
     "output_type": "execute_result"
    }
   ],
   "source": [
    "rental_delta_impact_df.columns"
   ]
  },
  {
   "cell_type": "code",
   "execution_count": 27,
   "id": "4b819cff",
   "metadata": {},
   "outputs": [
    {
     "data": {
      "image/png": "[encoded data removed]",
      "text/plain": [
       "<Figure size 1600x600 with 1 Axes>"
      ]
     },
     "metadata": {},
     "output_type": "display_data"
    },
    {
     "data": {
      "image/png": "[encoded data removed]",
      "text/plain": [
       "<Figure size 1600x600 with 1 Axes>"
      ]
     },
     "metadata": {},
     "output_type": "display_data"
    }
   ],
   "source": [
    "import matplotlib.pyplot as plt\n",
    "import numpy as np\n",
    "\n",
    "# Colonnes d'intérêt\n",
    "cols = [\n",
    "    'impacted_planned_rentals_count',\n",
    "    'impacted_real_on_time_rentals_count',\n",
    "    'impacted_real_checkin_delayed_rentals_count',\n",
    "    'impacted_planned_checkout_delayed_rentals_count',\n",
    "    'impacted_planned_previous_checkout_delayed_rentals_count',\n",
    "]\n",
    "\n",
    "line_col = 'impacted_real_checkin_delayed_rentals_count'\n",
    "\n",
    "# Trier par rental_delta pour ordre logique\n",
    "df_sorted = rental_delta_impact_df.sort_values(\"rental_delta\")\n",
    "\n",
    "# Limiter à N valeurs pour lisibilité (optionnel)\n",
    "N = 30\n",
    "df_plot = df_sorted.head(N)  # ou sample(N) pour un échantillon aléatoire\n",
    "\n",
    "def plot_checkin_type(df, checkin_type):\n",
    "    plot_df = df[df[\"checkin_type\"] == checkin_type]\n",
    "    \n",
    "    x = np.arange(len(plot_df))  # position x pour chaque rental_delta\n",
    "    width = 0.12                 # largeur de chaque barre\n",
    "    \n",
    "    plt.figure(figsize=(16, 6))\n",
    "\n",
    "    for i, col in enumerate(cols):\n",
    "        plt.bar(x + i * width, plot_df[col], width, label=col)\n",
    "        \n",
    "    # Line plot\n",
    "    plt.plot(x + width * (len(cols)-1) / 2, plot_df[line_col], color='black', marker='o', linestyle='-', label='Impact sur les check-ins retardés')\n",
    "\n",
    "\n",
    "    # Ajouter les labels sur l’axe x\n",
    "    plt.xticks(x + width * (len(cols)-1) / 2, plot_df['rental_delta'], rotation=45)\n",
    "\n",
    "    plt.xlabel(\"rental_delta\")\n",
    "    plt.ylabel(\"Valeur\")\n",
    "    plt.title(f\"Comparaison des métriques par valeur de rental_delta ({checkin_type})\")\n",
    "    plt.legend(loc=\"upper right\")\n",
    "    plt.tight_layout()\n",
    "    plt.grid(True)\n",
    "    plt.show()\n",
    "\n",
    "\n",
    "plot_checkin_type(df_plot, \"mobile\")\n",
    "plot_checkin_type(df_plot, \"connect\")\n"
   ]
  },
  {
   "cell_type": "markdown",
   "id": "8ece05bb",
   "metadata": {},
   "source": [
    "`impacted_real_checkin_delayed_rentals_count` donne une idée du nombre de cas problèmatiques évités. A 30 minutes, la majeure partie est déjà évitée."
   ]
  },
  {
   "cell_type": "markdown",
   "id": "3cd5b7c7",
   "metadata": {},
   "source": [
    "### Conclusion\n",
    "\n",
    "Le choix du delta minimum entre 2 locations peut s'appuyer sur le nombre de conflits évités vs le nombre de locations retardées.\n"
   ]
  }
 ],
 "metadata": {
  "kernelspec": {
   "display_name": "jedha-cdsd-cert-projects",
   "language": "python",
   "name": "python3"
  },
  "language_info": {
   "codemirror_mode": {
    "name": "ipython",
    "version": 3
   },
   "file_extension": ".py",
   "mimetype": "text/x-python",
   "name": "python",
   "nbconvert_exporter": "python",
   "pygments_lexer": "ipython3",
   "version": "3.11.11"
  }
 },
 "nbformat": 4,
 "nbformat_minor": 5
}
