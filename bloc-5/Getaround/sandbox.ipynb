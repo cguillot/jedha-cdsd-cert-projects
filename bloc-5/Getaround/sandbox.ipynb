{
 "cells": [
  {
   "cell_type": "code",
   "execution_count": null,
   "id": "716bd914",
   "metadata": {},
   "outputs": [],
   "source": [
    "#OUTLIER ANALYSIS\n",
    "iqr1 = delay_analysis_df[[\"delay_at_checkout_in_minutes\"]].apply(outlier_iqr, k=1.5)\n",
    "iqr2 = delay_analysis_df[[\"delay_at_checkout_in_minutes\"]].apply(outlier_iqr, k=2.0)\n",
    "iqr3 = delay_analysis_df[[\"delay_at_checkout_in_minutes\"]].apply(outlier_iqr, k=3.0)\n",
    "#OUTLIER PLOT\n",
    "f, ((ax1, ax2, ax3)) = plt.subplots(ncols=3, nrows=1, figsize=(22, 12));\n",
    "ax1.set_title('Outliers using a 1.5 IQR cutoff');\n",
    "ax2.set_title('Outliers using a 2.5 IQR cutoff');\n",
    "ax3.set_title('Outliers using a 3.0 IQR cutoff');\n",
    "sns.heatmap(iqr1, cmap='YlGn', ax=ax1);\n",
    "sns.heatmap(iqr2, cmap='YlGn', ax=ax2);\n",
    "sns.heatmap(iqr3, cmap='YlGn', ax=ax3);\n",
    "plt.tight_layout()"
   ]
  },
  {
   "cell_type": "code",
   "execution_count": null,
   "id": "d595593e",
   "metadata": {},
   "outputs": [],
   "source": [
    "iqr = delay_analysis_df[\"delay_at_checkout_in_minutes\"].quantile(0.75) - delay_analysis_df[\"delay_at_checkout_in_minutes\"].quantile(0.25)\n",
    "\n",
    "# In a normal distribution, we have roughly iqr=1.35*s, so you would translate z=3 of a z-score filter to f=2.22 of an iqr-filter. This will drop the 999 in the above example.\n",
    "# OPTION 3: iqr filter: within 2.22 IQR (equiv. to z-score < 3)\n",
    "# iqr = df_sub.quantile(0.75, numeric_only=False) - df_sub.quantile(0.25, numeric_only=False)\n",
    "# lim = np.abs((df_sub - df_sub.median()) / iqr) < 2.22\n",
    "\n",
    "\n",
    "lim = np.abs((delay_analysis_df[\"delay_at_checkout_in_minutes\"] - delay_analysis_df[\"delay_at_checkout_in_minutes\"].median()) / iqr) >= 2.22\n",
    "\n",
    "delay_analysis_df[lim or pd.isna(delay_analysis_df[\"delay_at_checkout_in_minutes\"])]\n",
    "# delay_analysis_df[\"delay_at_checkout_in_minutes\"].where(lim)\n",
    "# replace outliers with nan\n",
    "# df.loc[:, cols] = df_sub.where(lim, np.nan)"
   ]
  },
  {
   "cell_type": "code",
   "execution_count": null,
   "id": "f88ed871",
   "metadata": {},
   "outputs": [],
   "source": [
    "from scipy import stats\n",
    "\n",
    "#df = pd.DataFrame(np.random.randn(100, 3))\n",
    "\n",
    "delay_analysis_df[np.abs(stats.zscore(delay_analysis_df[\"delay_at_checkout_in_minutes\"]) < 3)]\n",
    "# df[(np.abs(stats.zscore(df)) < 3).all(axis=1)]\n",
    "# df[np.abs(stats.zscore(df[0])) < 3]"
   ]
  },
  {
   "cell_type": "code",
   "execution_count": null,
   "id": "fc0f1123",
   "metadata": {},
   "outputs": [],
   "source": [
    "df = px.data.tips()\n",
    "# create the bins\n",
    "counts, bins = np.histogram(chained_rentals_df.time_delta_with_previous_rental_in_minutes, bins=range(0, 720, 30))\n",
    "bins = 0.5 * (bins[:-1] + bins[1:])\n",
    "\n",
    "fig = px.bar(x=bins, y=counts, labels={'x':'total_bill', 'y':'count'})\n",
    "fig.show()"
   ]
  },
  {
   "cell_type": "code",
   "execution_count": null,
   "id": "cc3ecd2f",
   "metadata": {},
   "outputs": [],
   "source": [
    "chained_rentals_df.plot.hist(column=[\"time_delta_with_previous_rental_in_minutes\"])"
   ]
  },
  {
   "cell_type": "code",
   "execution_count": null,
   "id": "63166582",
   "metadata": {},
   "outputs": [],
   "source": [
    "\n",
    "# delay_analysis_df[delay_analysis_df[\"previous_ended_rental_id\"].notna()].head()\n",
    "\n",
    "\n",
    "# def get_previous_delay_at_checkout_in_minutes(row):\n",
    "#     if pd.isna(row[\"previous_ended_rental_id\"]):\n",
    "#         return None\n",
    "\n",
    "#     return delay_analysis_df[delay_analysis_df[\"rental_id\"] == row[\"previous_ended_rental_id\"]][\"delay_at_checkout_in_minutes\"].sum()\n",
    "\n",
    "# delay_analysis_df[\"previous_delay_at_checkout_in_minutes\"] = delay_analysis_df.apply(get_previous_delay_at_checkout_in_minutes, axis=1)"
   ]
  },
  {
   "cell_type": "code",
   "execution_count": null,
   "id": "c1116e7a",
   "metadata": {},
   "outputs": [],
   "source": [
    "chained_rentals_df[chained_rentals_df['time_delta_with_previous_rental_in_minutes'] < 0]"
   ]
  },
  {
   "cell_type": "markdown",
   "id": "9cae59f0",
   "metadata": {},
   "source": [
    "🌊 KDE plots pour variables numériques\n",
    "Les KDE plots sont utiles pour comparer la densité de rental_price_per_day selon des tranches de variables numériques ou des catégories binaires.\n",
    "\n",
    "📌 Exemple simple avec automatic_car :"
   ]
  },
  {
   "cell_type": "code",
   "execution_count": null,
   "id": "5709d9f6",
   "metadata": {},
   "outputs": [],
   "source": [
    "plt.figure(figsize=(8, 5))\n",
    "sns.kdeplot(data=pricing_optimization_df[pricing_optimization_df['automatic_car'] == True], x=target_feature, label=\"Automatique\", fill=True)\n",
    "sns.kdeplot(data=pricing_optimization_df[pricing_optimization_df['automatic_car'] == False], x=target_feature, label=\"Manuelle\", fill=True)\n",
    "plt.title(\"Distribution de rental_price_per_day selon automatic_car\")\n",
    "plt.legend()\n",
    "plt.tight_layout()\n",
    "plt.show()"
   ]
  },
  {
   "cell_type": "markdown",
   "id": "4d4f21e5",
   "metadata": {},
   "source": [
    "Tu peux aussi :\n",
    "\n",
    "binariser/segmenter une variable numérique (mileage en 3 quantiles par exemple),\n",
    "\n",
    "faire un sns.displot(..., kind=\"kde\", hue=...) si tu veux du multi-distribution propre."
   ]
  }
 ],
 "metadata": {
  "kernelspec": {
   "display_name": "jedha-cdsd-cert-projects",
   "language": "python",
   "name": "python3"
  },
  "language_info": {
   "name": "python",
   "version": "3.11.11"
  }
 },
 "nbformat": 4,
 "nbformat_minor": 5
}
